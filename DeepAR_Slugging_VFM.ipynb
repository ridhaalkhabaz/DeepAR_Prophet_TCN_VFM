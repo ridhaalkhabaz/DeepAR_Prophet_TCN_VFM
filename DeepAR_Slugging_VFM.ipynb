{
 "cells": [
  {
   "cell_type": "markdown",
   "metadata": {},
   "source": [
    "# DeepAR Deployment on Slugging data\n",
    "\n",
    "### Author: Ridha Alkhabaz \n",
    "## Imports:"
   ]
  },
  {
   "cell_type": "code",
   "execution_count": 1,
   "metadata": {},
   "outputs": [],
   "source": [
    "import warnings\n",
    "warnings.filterwarnings(\"ignore\", category=DeprecationWarning)\n",
    "warnings.filterwarnings(\"ignore\", category=FutureWarning)\n",
    "warnings.filterwarnings(\"ignore\", category=UserWarning)\n",
    "warnings.filterwarnings(\"ignore\", category=RuntimeWarning)"
   ]
  },
  {
   "cell_type": "code",
   "execution_count": 8,
   "metadata": {},
   "outputs": [],
   "source": [
    "import sys\n",
    "import zipfile\n",
    "from dateutil.parser import parse\n",
    "import json\n",
    "from random import shuffle\n",
    "import random\n",
    "import datetime\n",
    "import os\n",
    "import math\n",
    "import boto3\n",
    "import s3fs\n",
    "import sagemaker\n",
    "import numpy as np\n",
    "import pandas as pd\n",
    "import matplotlib.pyplot as plt\n",
    "from datetime import timedelta\n",
    "from ipywidgets import interact, interactive, fixed, interact_manual\n",
    "import ipywidgets as widgets\n",
    "from ipywidgets import IntSlider, FloatSlider, Checkbox"
   ]
  },
  {
   "cell_type": "code",
   "execution_count": 9,
   "metadata": {},
   "outputs": [],
   "source": [
    "import tensorflow.python.keras.utils as generic_utils\n",
    "from tensorflow.keras.models import Sequential, load_model"
   ]
  },
  {
   "cell_type": "code",
   "execution_count": 10,
   "metadata": {},
   "outputs": [],
   "source": [
    "import boto3\n",
    "import sagemaker\n",
    "from sagemaker import get_execution_role"
   ]
  },
  {
   "cell_type": "markdown",
   "metadata": {},
   "source": [
    "## Data formating and cleaning:"
   ]
  },
  {
   "cell_type": "code",
   "execution_count": 27,
   "metadata": {},
   "outputs": [],
   "source": [
    "# Convert the sequence of seconds into datetime array\n",
    "def parser(x):\n",
    "    now_seconds = 0\n",
    "    y = x.astype(np.float) + now_seconds\n",
    "    z = pd.to_datetime(y, unit='s')\n",
    "    return z\n",
    "\n",
    "# Read the data from fname and eventually plot them\n",
    "def read_data(fname, plot_data = False):\n",
    "    # Read the time series\n",
    "    datats = read_csv(fname, header=0, parse_dates=[0], index_col=0, squeeze=True, date_parser=parser)\n",
    "\n",
    "    headers = list(datats.columns.values)\n",
    "    headers.insert(0, datats.index.name)\n",
    "\n",
    "    # Resample the data using a uniform timestep\n",
    "    datats = datats.resample('S').mean()\n",
    "    datats = datats.interpolate(method='linear')\n",
    "\n",
    "    # Convert data to numpy array\n",
    "    data = datats.reset_index().values\n",
    "\n",
    "    # Replace timestamps with seconds\n",
    "    time_sec = array([data[i, 0].timestamp() for i in range(len(data))])\n",
    "    data = np.c_[time_sec, data[:, 1:]]\n",
    "\n",
    "    # Plot the pressure readings\n",
    "    if (plot_data):\n",
    "        pyplot.plot(data[:, 0], data[:, 1:8])\n",
    "        pyplot.xlabel(headers[0])\n",
    "        pyplot.ylabel('Pressure (bar)')\n",
    "        # Use the original headers\n",
    "        # headersplot = [w.replace('x_', '$x_') for w in headers[1:8]]\n",
    "        # headersplot = [w.replace('}=', '}$=') for w in headersplot]\n",
    "        # headersplot = [w.replace(' (bar)', '') for w in headersplot]\n",
    "        # Use the headers p(x=xi)\n",
    "        headersplot = [w[-8:-2] for w in headers[1:8]]\n",
    "        px = ['$p(x_{%d}' % i for i in range(1, 8)]\n",
    "        tail = [')$'] * 7\n",
    "        headersplot = [px + headersplot + tail for px, headersplot, tail in zip(px, headersplot, tail)]\n",
    "        pyplot.legend(headersplot)\n",
    "        pyplot.title('Distributed pressure readings')\n",
    "        pyplot.show(block=False)\n",
    "        pyplot.savefig('pressure_readings.pdf')\n",
    "\n",
    "    # Normalize the data\n",
    "    scaler = MinMaxScaler(feature_range=(0, 1))\n",
    "    scaler = scaler.fit(data)\n",
    "    scaler.scale_[0] = 1    # Do not normalize time\n",
    "\n",
    "#       Apply the same normalization to all pressure readings\n",
    "    pind = list(range(1, 8))  # Indices of pressure readings\n",
    "    pmin = scaler.data_min_[pind].min()\n",
    "    pmax = scaler.data_max_[pind].max()\n",
    "    scaler.scale_[pind] = ((scaler.feature_range[1] - scaler.feature_range[0]) / (pmax - pmin))\n",
    "    scaler.min_[pind] = scaler.feature_range[0] - pmin * scaler.scale_[pind]\n",
    "\n",
    "    data = scaler.transform(data)\n",
    "    return data, scaler\n",
    "#     return data\n",
    "\n",
    "# Generate Nts sample input and output sequences from time series in data.\n",
    "def generate_samples(data, features, Nts, step, length, shift):\n",
    "\n",
    "    X = np.zeros((Nts, length, len(features)))\n",
    "    tX = np.zeros((Nts, length))\n",
    "    for i in range(Nts):\n",
    "        X[i] = data[i*step+shift : i*step+shift+length, features]\n",
    "        tX[i] = data[i*step+shift : i*step+shift+length, 0]\n",
    "\n",
    "    return X, tX\n",
    "\n",
    "# X, tX, Y, tY assumed to be normalized to [0, 1]\n",
    "def visualize(X, tX, Y, tY):\n",
    "\n",
    "    Ns = X.shape[0]    # Number of sequences\n",
    "    Nif = X.shape[2]    # Number of input features\n",
    "    Nof = Y.shape[2]    # Number of output features\n",
    "\n",
    "    # Plot input sequences\n",
    "    squeeze = 0.9\n",
    "    barheight = squeeze * np.minimum(1 / Ns, 0.1)\n",
    "    interbar = 0.1 * barheight\n",
    "    starty = 0.5 + (barheight + interbar) * Ns / 2\n",
    "\n",
    "    f, ax = pyplot.subplots(1, sharex=True)\n",
    "    pyplot.xlim(0, 1)   # Fix the x range to (0, 1)\n",
    "\n",
    "    for i in range(Ns):\n",
    "        for j in range(Nif):\n",
    "            ax.plot(tX[i,:], X[i,:,j], 'b')\n",
    "        for j in range(Nof):\n",
    "            ax.plot(tY[i, :], Y[i, :, j], 'r')\n",
    "        #\n",
    "    # Add bars to indicate the span of data sequences\n",
    "    startybar = starty\n",
    "    for i in range(Ns):\n",
    "        endybar = startybar - barheight\n",
    "        ax.axhspan(startybar, endybar, xmin=min(tX[i,:]), xmax=max(tX[i,:]), facecolor='g', alpha=0.5)  # Input\n",
    "        ax.axhspan(startybar, endybar, xmin=min(tY[i, :]), xmax=max(tY[i, :]), facecolor='r', alpha=0.5)  # Output\n",
    "        startybar = endybar - interbar\n",
    "\n",
    "    ax.set_title('Data sequences', fontweight='bold')\n",
    "    pyplot.show(block=False)\n",
    "\n"
   ]
  },
  {
   "cell_type": "code",
   "execution_count": 28,
   "metadata": {},
   "outputs": [],
   "source": [
    "dataset = read_data('riser_pq_uni.csv')"
   ]
  },
  {
   "cell_type": "code",
   "execution_count": 29,
   "metadata": {},
   "outputs": [
    {
     "ename": "ValueError",
     "evalue": "Must setup local AWS configuration with a region supported by SageMaker.",
     "output_type": "error",
     "traceback": [
      "\u001b[0;31m---------------------------------------------------------------------------\u001b[0m",
      "\u001b[0;31mValueError\u001b[0m                                Traceback (most recent call last)",
      "\u001b[0;32m<ipython-input-29-d42c6a1e612e>\u001b[0m in \u001b[0;36m<module>\u001b[0;34m\u001b[0m\n\u001b[0;32m----> 1\u001b[0;31m \u001b[0msagemaker_session\u001b[0m \u001b[0;34m=\u001b[0m \u001b[0msagemaker\u001b[0m\u001b[0;34m.\u001b[0m\u001b[0mSession\u001b[0m\u001b[0;34m(\u001b[0m\u001b[0;34m)\u001b[0m\u001b[0;34m\u001b[0m\u001b[0;34m\u001b[0m\u001b[0m\n\u001b[0m",
      "\u001b[0;32m~/opt/anaconda3/lib/python3.7/site-packages/sagemaker/session.py\u001b[0m in \u001b[0;36m__init__\u001b[0;34m(self, boto_session, sagemaker_client, sagemaker_runtime_client, sagemaker_featurestore_runtime_client, default_bucket)\u001b[0m\n\u001b[1;32m    122\u001b[0m             \u001b[0msagemaker_client\u001b[0m\u001b[0;34m=\u001b[0m\u001b[0msagemaker_client\u001b[0m\u001b[0;34m,\u001b[0m\u001b[0;34m\u001b[0m\u001b[0;34m\u001b[0m\u001b[0m\n\u001b[1;32m    123\u001b[0m             \u001b[0msagemaker_runtime_client\u001b[0m\u001b[0;34m=\u001b[0m\u001b[0msagemaker_runtime_client\u001b[0m\u001b[0;34m,\u001b[0m\u001b[0;34m\u001b[0m\u001b[0;34m\u001b[0m\u001b[0m\n\u001b[0;32m--> 124\u001b[0;31m             \u001b[0msagemaker_featurestore_runtime_client\u001b[0m\u001b[0;34m=\u001b[0m\u001b[0msagemaker_featurestore_runtime_client\u001b[0m\u001b[0;34m,\u001b[0m\u001b[0;34m\u001b[0m\u001b[0;34m\u001b[0m\u001b[0m\n\u001b[0m\u001b[1;32m    125\u001b[0m         )\n\u001b[1;32m    126\u001b[0m \u001b[0;34m\u001b[0m\u001b[0m\n",
      "\u001b[0;32m~/opt/anaconda3/lib/python3.7/site-packages/sagemaker/session.py\u001b[0m in \u001b[0;36m_initialize\u001b[0;34m(self, boto_session, sagemaker_client, sagemaker_runtime_client, sagemaker_featurestore_runtime_client)\u001b[0m\n\u001b[1;32m    142\u001b[0m         \u001b[0;32mif\u001b[0m \u001b[0mself\u001b[0m\u001b[0;34m.\u001b[0m\u001b[0m_region_name\u001b[0m \u001b[0;32mis\u001b[0m \u001b[0;32mNone\u001b[0m\u001b[0;34m:\u001b[0m\u001b[0;34m\u001b[0m\u001b[0;34m\u001b[0m\u001b[0m\n\u001b[1;32m    143\u001b[0m             raise ValueError(\n\u001b[0;32m--> 144\u001b[0;31m                 \u001b[0;34m\"Must setup local AWS configuration with a region supported by SageMaker.\"\u001b[0m\u001b[0;34m\u001b[0m\u001b[0;34m\u001b[0m\u001b[0m\n\u001b[0m\u001b[1;32m    145\u001b[0m             )\n\u001b[1;32m    146\u001b[0m \u001b[0;34m\u001b[0m\u001b[0m\n",
      "\u001b[0;31mValueError\u001b[0m: Must setup local AWS configuration with a region supported by SageMaker."
     ]
    }
   ],
   "source": [
    "sagemaker_session = sagemaker.Session()"
   ]
  },
  {
   "cell_type": "code",
   "execution_count": null,
   "metadata": {},
   "outputs": [],
   "source": []
  }
 ],
 "metadata": {
  "kernelspec": {
   "display_name": "Python 3",
   "language": "python",
   "name": "python3"
  },
  "language_info": {
   "codemirror_mode": {
    "name": "ipython",
    "version": 3
   },
   "file_extension": ".py",
   "mimetype": "text/x-python",
   "name": "python",
   "nbconvert_exporter": "python",
   "pygments_lexer": "ipython3",
   "version": "3.7.4"
  }
 },
 "nbformat": 4,
 "nbformat_minor": 2
}
