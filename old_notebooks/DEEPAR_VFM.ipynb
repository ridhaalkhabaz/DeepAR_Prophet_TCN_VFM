{
 "cells": [
  {
   "cell_type": "markdown",
   "metadata": {},
   "source": [
    "# Applying Long Short-Term Memory (LSTM) networks to Virtual Flow Metering (VFM)\n",
    "\n",
    "## Author: Ridha Alkhabaz\n",
    "\n",
    "### Imports:"
   ]
  },
  {
   "cell_type": "code",
   "execution_count": 124,
   "metadata": {},
   "outputs": [],
   "source": [
    "os.chdir('/Users/ridhaalkhabaz/Documents/GitHub/VFM_ML/src')\n",
    "from preprocessing import read_data_slugging, read_data_well\n",
    "from configuration import configure \n",
    "os.chdir('/Users/ridhaalkhabaz/Documents/GitHub/VFM_ML')\n",
    "import mxnet as mx\n",
    "from mxnet import gluon\n",
    "import numpy as np\n",
    "import pandas as pd\n",
    "import matplotlib.pyplot as plt\n",
    "import json\n",
    "import os\n",
    "from itertools import islice\n",
    "from pathlib import Path\n",
    "from gluonts.model.deepar import DeepAREstimator\n",
    "from gluonts.dataset.common import ListDataset\n",
    "from gluonts.dataset.util import to_pandas\n",
    "from gluonts.evaluation.backtest import make_evaluation_predictions\n",
    "from gluonts.evaluation import Evaluator"
   ]
  },
  {
   "cell_type": "markdown",
   "metadata": {},
   "source": [
    "#### The Slugging data set:"
   ]
  },
  {
   "cell_type": "code",
   "execution_count": 310,
   "metadata": {},
   "outputs": [],
   "source": [
    "data_riser,headers, _= read_data_slugging('riser_pq_uni.csv', plot_data=False)\n",
    "df_riser = pd.DataFrame.from_dict(dict(zip(['ds', 'p1', 'p2', 'p3', 'p4', 'p5', 'p6', 'p7','gas', 'liquid' ], data_riser.T)))\n",
    "df_riser['date'] = df_riser['ds'].apply(time_to_timestamp)\n",
    "df_riser = df_riser.set_index('date')\n",
    "df_riser = df_riser.drop(['ds'], axis=1)\n",
    "target_gas = np.array(df_riser['gas'])\n",
    "target_liquid = np.array(df_riser['liquid'])\n",
    "p1 = np.array(df_riser['p1'])\n",
    "p2 = np.array(df_riser['p2'])\n",
    "p3 = np.array(df_riser['p3'])\n",
    "p4 = np.array(df_riser['p4'])\n",
    "p5 = np.array(df_riser['p5'])\n",
    "p6 = np.array(df_riser['p6'])\n",
    "p7 = np.array(df_riser['p7'])"
   ]
  },
  {
   "cell_type": "code",
   "execution_count": 311,
   "metadata": {},
   "outputs": [
    {
     "data": {
      "text/html": [
       "<div>\n",
       "<style scoped>\n",
       "    .dataframe tbody tr th:only-of-type {\n",
       "        vertical-align: middle;\n",
       "    }\n",
       "\n",
       "    .dataframe tbody tr th {\n",
       "        vertical-align: top;\n",
       "    }\n",
       "\n",
       "    .dataframe thead th {\n",
       "        text-align: right;\n",
       "    }\n",
       "</style>\n",
       "<table border=\"1\" class=\"dataframe\">\n",
       "  <thead>\n",
       "    <tr style=\"text-align: right;\">\n",
       "      <th></th>\n",
       "      <th>p1</th>\n",
       "      <th>p2</th>\n",
       "      <th>p3</th>\n",
       "      <th>p4</th>\n",
       "      <th>p5</th>\n",
       "      <th>p6</th>\n",
       "      <th>p7</th>\n",
       "      <th>gas</th>\n",
       "      <th>liquid</th>\n",
       "    </tr>\n",
       "    <tr>\n",
       "      <th>date</th>\n",
       "      <th></th>\n",
       "      <th></th>\n",
       "      <th></th>\n",
       "      <th></th>\n",
       "      <th></th>\n",
       "      <th></th>\n",
       "      <th></th>\n",
       "      <th></th>\n",
       "      <th></th>\n",
       "    </tr>\n",
       "  </thead>\n",
       "  <tbody>\n",
       "    <tr>\n",
       "      <th>2021-07-10 00:00:00</th>\n",
       "      <td>0.904939</td>\n",
       "      <td>0.881934</td>\n",
       "      <td>0.721893</td>\n",
       "      <td>0.526299</td>\n",
       "      <td>0.337001</td>\n",
       "      <td>0.155666</td>\n",
       "      <td>0.016581</td>\n",
       "      <td>0.210728</td>\n",
       "      <td>0.365316</td>\n",
       "    </tr>\n",
       "    <tr>\n",
       "      <th>2021-07-10 00:01:00</th>\n",
       "      <td>0.907502</td>\n",
       "      <td>0.889475</td>\n",
       "      <td>0.732448</td>\n",
       "      <td>0.536326</td>\n",
       "      <td>0.346176</td>\n",
       "      <td>0.163545</td>\n",
       "      <td>0.025615</td>\n",
       "      <td>0.192040</td>\n",
       "      <td>0.289380</td>\n",
       "    </tr>\n",
       "    <tr>\n",
       "      <th>2021-07-10 00:02:00</th>\n",
       "      <td>0.903671</td>\n",
       "      <td>0.883730</td>\n",
       "      <td>0.728871</td>\n",
       "      <td>0.532214</td>\n",
       "      <td>0.341866</td>\n",
       "      <td>0.159461</td>\n",
       "      <td>0.020827</td>\n",
       "      <td>0.219544</td>\n",
       "      <td>0.354832</td>\n",
       "    </tr>\n",
       "    <tr>\n",
       "      <th>2021-07-10 00:03:00</th>\n",
       "      <td>0.900143</td>\n",
       "      <td>0.880012</td>\n",
       "      <td>0.727829</td>\n",
       "      <td>0.531686</td>\n",
       "      <td>0.341796</td>\n",
       "      <td>0.159701</td>\n",
       "      <td>0.021207</td>\n",
       "      <td>0.237477</td>\n",
       "      <td>0.382744</td>\n",
       "    </tr>\n",
       "    <tr>\n",
       "      <th>2021-07-10 00:04:00</th>\n",
       "      <td>0.897756</td>\n",
       "      <td>0.877927</td>\n",
       "      <td>0.727519</td>\n",
       "      <td>0.531482</td>\n",
       "      <td>0.341613</td>\n",
       "      <td>0.159602</td>\n",
       "      <td>0.021137</td>\n",
       "      <td>0.247850</td>\n",
       "      <td>0.398670</td>\n",
       "    </tr>\n",
       "    <tr>\n",
       "      <th>...</th>\n",
       "      <td>...</td>\n",
       "      <td>...</td>\n",
       "      <td>...</td>\n",
       "      <td>...</td>\n",
       "      <td>...</td>\n",
       "      <td>...</td>\n",
       "      <td>...</td>\n",
       "      <td>...</td>\n",
       "      <td>...</td>\n",
       "    </tr>\n",
       "    <tr>\n",
       "      <th>2021-07-12 01:56:00</th>\n",
       "      <td>0.806160</td>\n",
       "      <td>0.784456</td>\n",
       "      <td>0.614275</td>\n",
       "      <td>0.404809</td>\n",
       "      <td>0.200553</td>\n",
       "      <td>0.014812</td>\n",
       "      <td>0.003875</td>\n",
       "      <td>0.179354</td>\n",
       "      <td>0.279759</td>\n",
       "    </tr>\n",
       "    <tr>\n",
       "      <th>2021-07-12 01:57:00</th>\n",
       "      <td>0.808061</td>\n",
       "      <td>0.786358</td>\n",
       "      <td>0.616164</td>\n",
       "      <td>0.406668</td>\n",
       "      <td>0.202369</td>\n",
       "      <td>0.015646</td>\n",
       "      <td>0.003913</td>\n",
       "      <td>0.179351</td>\n",
       "      <td>0.279714</td>\n",
       "    </tr>\n",
       "    <tr>\n",
       "      <th>2021-07-12 01:58:00</th>\n",
       "      <td>0.809965</td>\n",
       "      <td>0.788271</td>\n",
       "      <td>0.618062</td>\n",
       "      <td>0.408552</td>\n",
       "      <td>0.204211</td>\n",
       "      <td>0.016624</td>\n",
       "      <td>0.004025</td>\n",
       "      <td>0.179258</td>\n",
       "      <td>0.279125</td>\n",
       "    </tr>\n",
       "    <tr>\n",
       "      <th>2021-07-12 01:59:00</th>\n",
       "      <td>0.811905</td>\n",
       "      <td>0.790208</td>\n",
       "      <td>0.619977</td>\n",
       "      <td>0.410423</td>\n",
       "      <td>0.206042</td>\n",
       "      <td>0.017779</td>\n",
       "      <td>0.004022</td>\n",
       "      <td>0.179147</td>\n",
       "      <td>0.278436</td>\n",
       "    </tr>\n",
       "    <tr>\n",
       "      <th>2021-07-12 02:00:00</th>\n",
       "      <td>0.812919</td>\n",
       "      <td>0.791203</td>\n",
       "      <td>0.620938</td>\n",
       "      <td>0.411381</td>\n",
       "      <td>0.207189</td>\n",
       "      <td>0.018250</td>\n",
       "      <td>0.004138</td>\n",
       "      <td>0.179129</td>\n",
       "      <td>0.278316</td>\n",
       "    </tr>\n",
       "  </tbody>\n",
       "</table>\n",
       "<p>3001 rows × 9 columns</p>\n",
       "</div>"
      ],
      "text/plain": [
       "                           p1        p2        p3        p4        p5  \\\n",
       "date                                                                    \n",
       "2021-07-10 00:00:00  0.904939  0.881934  0.721893  0.526299  0.337001   \n",
       "2021-07-10 00:01:00  0.907502  0.889475  0.732448  0.536326  0.346176   \n",
       "2021-07-10 00:02:00  0.903671  0.883730  0.728871  0.532214  0.341866   \n",
       "2021-07-10 00:03:00  0.900143  0.880012  0.727829  0.531686  0.341796   \n",
       "2021-07-10 00:04:00  0.897756  0.877927  0.727519  0.531482  0.341613   \n",
       "...                       ...       ...       ...       ...       ...   \n",
       "2021-07-12 01:56:00  0.806160  0.784456  0.614275  0.404809  0.200553   \n",
       "2021-07-12 01:57:00  0.808061  0.786358  0.616164  0.406668  0.202369   \n",
       "2021-07-12 01:58:00  0.809965  0.788271  0.618062  0.408552  0.204211   \n",
       "2021-07-12 01:59:00  0.811905  0.790208  0.619977  0.410423  0.206042   \n",
       "2021-07-12 02:00:00  0.812919  0.791203  0.620938  0.411381  0.207189   \n",
       "\n",
       "                           p6        p7       gas    liquid  \n",
       "date                                                         \n",
       "2021-07-10 00:00:00  0.155666  0.016581  0.210728  0.365316  \n",
       "2021-07-10 00:01:00  0.163545  0.025615  0.192040  0.289380  \n",
       "2021-07-10 00:02:00  0.159461  0.020827  0.219544  0.354832  \n",
       "2021-07-10 00:03:00  0.159701  0.021207  0.237477  0.382744  \n",
       "2021-07-10 00:04:00  0.159602  0.021137  0.247850  0.398670  \n",
       "...                       ...       ...       ...       ...  \n",
       "2021-07-12 01:56:00  0.014812  0.003875  0.179354  0.279759  \n",
       "2021-07-12 01:57:00  0.015646  0.003913  0.179351  0.279714  \n",
       "2021-07-12 01:58:00  0.016624  0.004025  0.179258  0.279125  \n",
       "2021-07-12 01:59:00  0.017779  0.004022  0.179147  0.278436  \n",
       "2021-07-12 02:00:00  0.018250  0.004138  0.179129  0.278316  \n",
       "\n",
       "[3001 rows x 9 columns]"
      ]
     },
     "execution_count": 311,
     "metadata": {},
     "output_type": "execute_result"
    }
   ],
   "source": [
    "df_riser"
   ]
  },
  {
   "cell_type": "code",
   "execution_count": 306,
   "metadata": {},
   "outputs": [],
   "source": [
    "def time_to_timestamp(seconds):\n",
    "    addition = 1625893200\n",
    "    minutes = seconds * 60 \n",
    "    minutes += addition\n",
    "    timestamp = datetime.datetime.fromtimestamp(minutes)\n",
    "    return timestamp.strftime('%Y-%m-%d %H:%M:%S')"
   ]
  },
  {
   "cell_type": "code",
   "execution_count": 312,
   "metadata": {},
   "outputs": [],
   "source": [
    "training_data_uni = ListDataset(\n",
    "    [{\"start\":df_riser.index[0], \"target\":df_riser.gas[:2100]}],\n",
    "    freq = \"1min\"\n",
    ")"
   ]
  },
  {
   "cell_type": "code",
   "execution_count": 314,
   "metadata": {},
   "outputs": [],
   "source": [
    "model = DeepAREstimator(freq='1min', context_length=100, prediction_length= 5,trainer= Trainer(epochs=30))\n",
    "                "
   ]
  },
  {
   "cell_type": "code",
   "execution_count": 315,
   "metadata": {},
   "outputs": [
    {
     "name": "stderr",
     "output_type": "stream",
     "text": [
      "\n",
      "\n",
      "\n",
      "\n",
      "100%|██████████| 50/50 [00:07<00:00,  6.93it/s, epoch=1/30, avg_epoch_loss=-1.24]\n",
      "\n",
      "\n",
      "\n",
      "\n",
      "100%|██████████| 50/50 [00:06<00:00,  7.49it/s, epoch=2/30, avg_epoch_loss=-2.52]\n",
      "\n",
      "\n",
      "\n",
      "\n",
      "100%|██████████| 50/50 [00:06<00:00,  7.75it/s, epoch=3/30, avg_epoch_loss=-2.95]\n",
      "\n",
      "\n",
      "\n",
      "\n",
      "100%|██████████| 50/50 [00:06<00:00,  7.73it/s, epoch=4/30, avg_epoch_loss=-3.14]\n",
      "\n",
      "\n",
      "\n",
      "\n",
      "100%|██████████| 50/50 [00:06<00:00,  7.90it/s, epoch=5/30, avg_epoch_loss=-2.98]\n",
      "\n",
      "\n",
      "\n",
      "\n",
      "100%|██████████| 50/50 [00:06<00:00,  7.86it/s, epoch=6/30, avg_epoch_loss=-3.22]\n",
      "\n",
      "\n",
      "\n",
      "\n",
      "100%|██████████| 50/50 [00:06<00:00,  7.34it/s, epoch=7/30, avg_epoch_loss=-3.58]\n",
      "\n",
      "\n",
      "\n",
      "\n",
      "100%|██████████| 50/50 [00:06<00:00,  7.90it/s, epoch=8/30, avg_epoch_loss=-3.39]\n",
      "\n",
      "\n",
      "\n",
      "\n",
      "100%|██████████| 50/50 [00:06<00:00,  7.61it/s, epoch=9/30, avg_epoch_loss=-3.74]\n",
      "\n",
      "\n",
      "\n",
      "\n",
      "100%|██████████| 50/50 [00:06<00:00,  7.89it/s, epoch=10/30, avg_epoch_loss=-3.77]\n",
      "\n",
      "\n",
      "\n",
      "\n",
      "100%|██████████| 50/50 [00:06<00:00,  7.89it/s, epoch=11/30, avg_epoch_loss=-3.78]\n",
      "\n",
      "\n",
      "\n",
      "\n",
      "100%|██████████| 50/50 [00:06<00:00,  7.74it/s, epoch=12/30, avg_epoch_loss=-3.76]\n",
      "\n",
      "\n",
      "\n",
      "\n",
      "  0%|          | 0/50 [00:00<?, ?it/s]\u001b[A\u001b[A\u001b[A\u001b[A\n",
      "\n",
      "\n",
      "\n",
      "100%|██████████| 50/50 [00:15<00:00,  3.16it/s, epoch=13/30, avg_epoch_loss=-3.96]\u001b[A\u001b[A\u001b[A\u001b[A\n",
      "\n",
      "\n",
      "\n",
      "\n",
      "100%|██████████| 50/50 [00:06<00:00,  7.15it/s, epoch=14/30, avg_epoch_loss=-3.8]\n",
      "\n",
      "\n",
      "\n",
      "\n",
      "100%|██████████| 50/50 [00:08<00:00,  5.63it/s, epoch=15/30, avg_epoch_loss=-3.83]\n",
      "\n",
      "\n",
      "\n",
      "\n",
      "100%|██████████| 50/50 [00:08<00:00,  6.18it/s, epoch=16/30, avg_epoch_loss=-3.45]\n",
      "\n",
      "\n",
      "\n",
      "\n",
      "100%|██████████| 50/50 [00:08<00:00,  6.23it/s, epoch=17/30, avg_epoch_loss=-3.74]\n",
      "\n",
      "\n",
      "\n",
      "\n",
      "100%|██████████| 50/50 [00:06<00:00,  7.56it/s, epoch=18/30, avg_epoch_loss=-3.58]\n",
      "\n",
      "\n",
      "\n",
      "\n",
      "100%|██████████| 50/50 [00:06<00:00,  7.88it/s, epoch=19/30, avg_epoch_loss=-3.98]\n",
      "\n",
      "\n",
      "\n",
      "\n",
      "100%|██████████| 50/50 [00:06<00:00,  7.71it/s, epoch=20/30, avg_epoch_loss=-3.82]\n",
      "\n",
      "\n",
      "\n",
      "\n",
      "100%|██████████| 50/50 [00:07<00:00,  6.79it/s, epoch=21/30, avg_epoch_loss=-4.09]\n",
      "\n",
      "\n",
      "\n",
      "\n",
      "100%|██████████| 50/50 [00:06<00:00,  7.32it/s, epoch=22/30, avg_epoch_loss=-4.06]\n",
      "\n",
      "\n",
      "\n",
      "\n",
      "100%|██████████| 50/50 [00:09<00:00,  5.43it/s, epoch=23/30, avg_epoch_loss=-4.06]\n",
      "\n",
      "\n",
      "\n",
      "\n",
      "100%|██████████| 50/50 [00:08<00:00,  5.84it/s, epoch=24/30, avg_epoch_loss=-3.66]\n",
      "\n",
      "\n",
      "\n",
      "\n",
      "100%|██████████| 50/50 [00:07<00:00,  6.46it/s, epoch=25/30, avg_epoch_loss=-4.19]\n",
      "\n",
      "\n",
      "\n",
      "\n",
      "100%|██████████| 50/50 [00:07<00:00,  6.32it/s, epoch=26/30, avg_epoch_loss=-4.07]\n",
      "\n",
      "\n",
      "\n",
      "\n",
      "100%|██████████| 50/50 [00:08<00:00,  5.97it/s, epoch=27/30, avg_epoch_loss=-4.06]\n",
      "\n",
      "\n",
      "\n",
      "\n",
      "100%|██████████| 50/50 [00:07<00:00,  7.05it/s, epoch=28/30, avg_epoch_loss=-4.32]\n",
      "\n",
      "\n",
      "\n",
      "\n",
      "100%|██████████| 50/50 [00:06<00:00,  7.71it/s, epoch=29/30, avg_epoch_loss=-4.33]\n",
      "\n",
      "\n",
      "\n",
      "\n",
      "100%|██████████| 50/50 [00:06<00:00,  7.69it/s, epoch=30/30, avg_epoch_loss=-4.27]\n"
     ]
    }
   ],
   "source": [
    "predictor = model.train(training_data_uni)"
   ]
  },
  {
   "cell_type": "code",
   "execution_count": 317,
   "metadata": {},
   "outputs": [],
   "source": [
    "test_data = ListDataset(\n",
    "    [{\"start\": df_riser.index[0], \"target\": df_riser.gas[2100:]}],\n",
    "    freq = \"1min\"\n",
    ")"
   ]
  },
  {
   "cell_type": "code",
   "execution_count": 326,
   "metadata": {},
   "outputs": [
    {
     "data": {
      "text/plain": [
       "[{'start': '2021-07-10 00:00:00', 'target': date\n",
       "  2021-07-11 11:00:00    0.178108\n",
       "  2021-07-11 11:01:00    0.177002\n",
       "  2021-07-11 11:02:00    0.177643\n",
       "  2021-07-11 11:03:00    0.177943\n",
       "  2021-07-11 11:04:00    0.178676\n",
       "                           ...   \n",
       "  2021-07-12 01:56:00    0.179354\n",
       "  2021-07-12 01:57:00    0.179351\n",
       "  2021-07-12 01:58:00    0.179258\n",
       "  2021-07-12 01:59:00    0.179147\n",
       "  2021-07-12 02:00:00    0.179129\n",
       "  Name: gas, Length: 901, dtype: float64}]"
      ]
     },
     "execution_count": 326,
     "metadata": {},
     "output_type": "execute_result"
    }
   ],
   "source": [
    "[{\"start\": df_riser.index[0], \"target\": df_riser.gas[2100:]}]"
   ]
  },
  {
   "cell_type": "code",
   "execution_count": 332,
   "metadata": {},
   "outputs": [],
   "source": [
    "forecast_it, test_it = make_evaluation_predictions(\n",
    "    dataset=test_data,\n",
    "    predictor=predictor, \n",
    "    num_samples=100000\n",
    ")"
   ]
  },
  {
   "cell_type": "code",
   "execution_count": 333,
   "metadata": {},
   "outputs": [],
   "source": [
    "forecasts = list(forecast_it)"
   ]
  },
  {
   "cell_type": "code",
   "execution_count": 335,
   "metadata": {},
   "outputs": [],
   "source": [
    "tss = list(test_it)"
   ]
  },
  {
   "cell_type": "code",
   "execution_count": 322,
   "metadata": {},
   "outputs": [
    {
     "name": "stderr",
     "output_type": "stream",
     "text": [
      "\n",
      "\n",
      "\n",
      "\n",
      "Running evaluation: 100%|██████████| 1/1 [00:00<00:00,  9.03it/s]A\u001b[A\n"
     ]
    }
   ],
   "source": [
    "evaluator = Evaluator(quantiles=[0.1, 0.5, 0.9])\n",
    "agg_metric, item_metrics= evaluator(iter(tss), iter(forecasts), num_series=len(test_data))"
   ]
  },
  {
   "cell_type": "code",
   "execution_count": 323,
   "metadata": {},
   "outputs": [
    {
     "data": {
      "text/plain": [
       "{'MSE': 1.1266083311056718e-05,\n",
       " 'abs_error': 0.016292020678520203,\n",
       " 'abs_target_sum': 0.896239161491394,\n",
       " 'abs_target_mean': 0.17924783229827881,\n",
       " 'seasonal_error': 0.007057796776627695,\n",
       " 'MASE': 0.4616744061680035,\n",
       " 'MAPE': 0.018178895115852356,\n",
       " 'sMAPE': 0.01835739314556122,\n",
       " 'MSIS': 1.2415566698024383,\n",
       " 'QuantileLoss[0.1]': 0.005716675519943237,\n",
       " 'Coverage[0.1]': 0.0,\n",
       " 'QuantileLoss[0.5]': 0.016292020678520203,\n",
       " 'Coverage[0.5]': 0.0,\n",
       " 'QuantileLoss[0.9]': 0.006790658831596375,\n",
       " 'Coverage[0.9]': 0.4,\n",
       " 'RMSE': 0.003356498668412773,\n",
       " 'NRMSE': 0.018725463094177698,\n",
       " 'ND': 0.018178206642308882,\n",
       " 'wQuantileLoss[0.1]': 0.006378515652485389,\n",
       " 'wQuantileLoss[0.5]': 0.018178206642308882,\n",
       " 'wQuantileLoss[0.9]': 0.0075768378836474,\n",
       " 'mean_absolute_QuantileLoss': 0.009599785010019938,\n",
       " 'mean_wQuantileLoss': 0.010711186726147223,\n",
       " 'MAE_Coverage': 0.3666666666666667,\n",
       " 'OWA': nan}"
      ]
     },
     "execution_count": 323,
     "metadata": {},
     "output_type": "execute_result"
    }
   ],
   "source": [
    "agg_metric"
   ]
  },
  {
   "cell_type": "code",
   "execution_count": 166,
   "metadata": {},
   "outputs": [
    {
     "data": {
      "text/plain": [
       "<matplotlib.legend.Legend at 0x7fab51083390>"
      ]
     },
     "execution_count": 166,
     "metadata": {},
     "output_type": "execute_result"
    },
    {
     "data": {
      "image/png": "[encoded data removed]",
      "text/plain": [
       "<Figure size 432x288 with 1 Axes>"
      ]
     },
     "metadata": {
      "needs_background": "light"
     },
     "output_type": "display_data"
    }
   ],
   "source": [
    "start_ploting = 2100\n",
    "end_ploting = len(df_riser)\n",
    "fig,ax = plt.subplots()\n",
    "ax.set_title('liquid flow rate prediction and real data')\n",
    "ax.plot(df_riser['ds'].iloc[start_ploting:end_ploting], df_riser['gas'].iloc[start_ploting:end_ploting], marker=\".\", label='real_data')\n",
    "ax.legend(loc='upper left')"
   ]
  },
  {
   "cell_type": "code",
   "execution_count": 279,
   "metadata": {},
   "outputs": [
    {
     "name": "stdout",
     "output_type": "stream",
     "text": [
      "1 day, 5:56:00\n"
     ]
    },
    {
     "data": {
      "text/plain": [
       "'05:55:00'"
      ]
     },
     "execution_count": 279,
     "metadata": {},
     "output_type": "execute_result"
    }
   ],
   "source": [
    "\n",
    "x_0 = forecasts[0].start_date.to_pydatetime()\n",
    "base_date = datetime.datetime.combine(x_0.date(), datetime.datetime.min.time())\n",
    "print(x_0 + datetime.timedelta(minutes=900) - base_date)\n",
    "x_unit = 1  # 1 minute\n",
    "x_ticks = np.linspace(0, len(forecasts[0].samples)-1, 10, dtype=int)\n",
    "x_axis = [((datetime.datetime.min + (x_0 + datetime.timedelta(minutes=int(n) * x_unit) - base_date))).strftime('%H:%M:%S') for n in x_ticks]\n",
    "x_axis[-1]"
   ]
  },
  {
   "cell_type": "code",
   "execution_count": 263,
   "metadata": {},
   "outputs": [
    {
     "data": {
      "text/plain": [
       "Timestamp('2021-07-12 15:00:00', freq='T')"
      ]
     },
     "execution_count": 263,
     "metadata": {},
     "output_type": "execute_result"
    }
   ],
   "source": [
    "forecasts[0].start_date"
   ]
  },
  {
   "cell_type": "code",
   "execution_count": 324,
   "metadata": {},
   "outputs": [
    {
     "data": {
      "image/png": "[encoded data removed]",
      "text/plain": [
       "<Figure size 432x288 with 1 Axes>"
      ]
     },
     "metadata": {
      "needs_background": "light"
     },
     "output_type": "display_data"
    }
   ],
   "source": [
    "plt.plot(forecasts[0].samples)\n",
    "ax = plt.gca()\n",
    "ax.set_xticks(x_ticks)\n",
    "ax.set_xticklabels(x_axis)\n",
    "plt.setp(plt.gca().get_xticklabels(), rotation=90, horizontalalignment='right')\n",
    "plt.show()"
   ]
  },
  {
   "cell_type": "code",
   "execution_count": 341,
   "metadata": {},
   "outputs": [],
   "source": [
    "def plot_prob_forecasts(ts_entry, forecast_entry):\n",
    "    plot_length = 900\n",
    "    prediction_intervals = (50.0, 90.0)\n",
    "    legend = [\"observations\", \"median prediction\"] + [f\"{k}% prediction interval\" for k in prediction_intervals][::-1]\n",
    "\n",
    "    fig, ax = plt.subplots(1, 1, figsize=(10, 7))\n",
    "    ts_entry[-plot_length:].plot(ax=ax)  # plot the time series\n",
    "    forecast_entry.plot(prediction_intervals=prediction_intervals, color='g')\n",
    "    plt.grid(which=\"both\")\n",
    "    plt.legend(legend, loc=\"upper left\")\n",
    "    plt.show()"
   ]
  },
  {
   "cell_type": "code",
   "execution_count": 342,
   "metadata": {},
   "outputs": [
    {
     "data": {
      "image/png": "[encoded data removed]",
      "text/plain": [
       "<Figure size 720x504 with 1 Axes>"
      ]
     },
     "metadata": {
      "needs_background": "light"
     },
     "output_type": "display_data"
    }
   ],
   "source": [
    "plot_prob_forecasts(tss[0], forecasts[0])"
   ]
  },
  {
   "cell_type": "code",
   "execution_count": null,
   "metadata": {},
   "outputs": [],
   "source": []
  }
 ],
 "metadata": {
  "kernelspec": {
   "display_name": "Python 3",
   "language": "python",
   "name": "python3"
  },
  "language_info": {
   "codemirror_mode": {
    "name": "ipython",
    "version": 3
   },
   "file_extension": ".py",
   "mimetype": "text/x-python",
   "name": "python",
   "nbconvert_exporter": "python",
   "pygments_lexer": "ipython3",
   "version": "3.7.4"
  }
 },
 "nbformat": 4,
 "nbformat_minor": 2
}
