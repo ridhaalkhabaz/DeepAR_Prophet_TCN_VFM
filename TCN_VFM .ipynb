{
 "cells": [
  {
   "cell_type": "markdown",
   "metadata": {},
   "source": [
    "\n",
    "# Applying Temporal Convonotional Networks to the Virtual Flow Metering Problem \n",
    "\n",
    "## Author: Ridha Alkhabaz \n",
    "\n",
    "### Imports:"
   ]
  },
  {
   "cell_type": "code",
   "execution_count": 447,
   "metadata": {},
   "outputs": [],
   "source": [
    "import warnings\n",
    "warnings.filterwarnings(\"ignore\", category=DeprecationWarning)\n",
    "warnings.filterwarnings(\"ignore\", category=FutureWarning)\n",
    "warnings.filterwarnings(\"ignore\", category=UserWarning)\n",
    "warnings.filterwarnings(\"ignore\", category=RuntimeWarning)"
   ]
  },
  {
   "cell_type": "code",
   "execution_count": 535,
   "metadata": {},
   "outputs": [],
   "source": [
    "# for tcn applications\n",
    "import numpy as np\n",
    "from tensorflow.keras import Sequential\n",
    "from tensorflow.keras.layers import Dense, Embedding, RepeatVector\n",
    "from tensorflow.keras.preprocessing import sequence\n",
    "from tcn import TCN, compiled_tcn\n",
    "import tensorflow as tf\n",
    "import os\n",
    "os.chdir(\"/Users/ridhaalkhabaz/Documents/GitHub/ElectricDemandForecasting-DL/src/\")\n",
    "from models import tcn\n",
    "# for data configurations\n",
    "import sys\n",
    "import zipfile\n",
    "from dateutil.parser import parse\n",
    "import json\n",
    "from random import shuffle\n",
    "import random\n",
    "import datetime\n",
    "import math\n",
    "import pandas as pd\n",
    "import matplotlib.pyplot as plt\n",
    "from matplotlib import pyplot, dates\n",
    "from datetime import timedelta\n",
    "from pandas import read_csv\n",
    "from pandas import datetime\n",
    "from numpy import array\n",
    "from sklearn.preprocessing import MinMaxScaler\n",
    "from sklearn.metrics import mean_squared_error\n",
    "import datetime as dttm"
   ]
  },
  {
   "cell_type": "markdown",
   "metadata": {},
   "source": [
    "### Data configuration and Reading:\n",
    "\n",
    "#### First: Riser data:\n",
    "\n",
    "##### Reading the data and formating:"
   ]
  },
  {
   "cell_type": "code",
   "execution_count": 536,
   "metadata": {},
   "outputs": [],
   "source": [
    "# Convert the sequence of seconds into datetime array\n",
    "def parser(x):\n",
    "    now_seconds = 0\n",
    "    y = x.astype(np.float) + now_seconds\n",
    "    z = pd.to_datetime(y, unit='s')\n",
    "    return z"
   ]
  },
  {
   "cell_type": "code",
   "execution_count": 603,
   "metadata": {},
   "outputs": [],
   "source": [
    "# Read the data from fname and eventually plot them\n",
    "def read_data(fname, plot_data = False):\n",
    "    # Read the time series\n",
    "    datats = read_csv(fname, header=0, parse_dates=[0], index_col=0, squeeze=True, date_parser=parser)\n",
    "\n",
    "    headers = list(datats.columns.values)\n",
    "    headers.insert(0, datats.index.name)\n",
    "\n",
    "    # Resample the data using a uniform timestep\n",
    "    datats = datats.resample('S').mean()\n",
    "    datats = datats.interpolate(method='linear')\n",
    "    # Convert data to numpy array\n",
    "    data = datats.reset_index().values\n",
    "\n",
    "    # Replace timestamps with seconds\n",
    "    time_sec = array([data[i, 0].timestamp() for i in range(len(data))])\n",
    "    data = np.c_[time_sec, data[:, 1:]]\n",
    "    \n",
    "    # some outliers and spikes\n",
    "#     for i in random.sample(range(1, 3000), 100):\n",
    "#         data[i][1:] = random.sample(range(1, 3000), 9)\n",
    "        \n",
    "    # Normalize the data\n",
    "    scaler = MinMaxScaler(feature_range=(0, 1))\n",
    "    scaler = scaler.fit(data)\n",
    "    scaler.scale_[0] = 1    # Do not normalize time\n",
    "\n",
    "    # Apply the same normalization to all pressure readings\n",
    "    pind = list(range(1, 8))  # Indices of pressure readings\n",
    "    pmin = scaler.data_min_[pind].min()\n",
    "    pmax = scaler.data_max_[pind].max()\n",
    "    scaler.scale_[pind] = ((scaler.feature_range[1] - scaler.feature_range[0]) / (pmax - pmin))\n",
    "    scaler.min_[pind] = scaler.feature_range[0] - pmin * scaler.scale_[pind]\n",
    "\n",
    "    data = scaler.transform(data)\n",
    "\n",
    "    return data, scaler"
   ]
  },
  {
   "cell_type": "markdown",
   "metadata": {},
   "source": [
    "##### Sliding window technique (Data configuration):"
   ]
  },
  {
   "cell_type": "code",
   "execution_count": 599,
   "metadata": {},
   "outputs": [],
   "source": [
    "os.chdir(\"/Users/ridhaalkhabaz/Documents/GitHub/DeepAR_Prophet_VFM\")\n",
    "data_riser,scaler_riser= read_data('riser_pq_uni.csv')\n",
    "df_riser = pd.DataFrame.from_dict(dict(zip(['ds', 'p1', 'p2', 'p3', 'p4', 'p5', 'p6', 'p7','gas(m3/day)', 'liquid(m3/day)' ], data.T)))\n",
    "### previous readings of \n",
    "dt_gas_riser = np.array(df_riser['gas(m3/day)'])\n",
    "dt_liquid_riser = np.array(df_riser['liquid(m3/day)'])\n",
    "### gas and liquid datafram\n",
    "df_gas_riser = df_riser.drop('liquid(m3/day)', axis=1)\n",
    "df_gas_riser = df_gas_riser.set_index('ds')\n",
    "df_liquid_riser = df_riser.drop('gas(m3/day)', axis=1)\n",
    "df_liquid_riser = df_liquid_riser.set_index('ds')"
   ]
  },
  {
   "cell_type": "markdown",
   "metadata": {},
   "source": [
    "###### Removing some values:"
   ]
  },
  {
   "cell_type": "code",
   "execution_count": 600,
   "metadata": {},
   "outputs": [],
   "source": [
    "from random import randint\n",
    "index = [randint(0, len(df_riser)) for i in range(100)]\n",
    "df_riser.iloc[index,[1,2,3,4,5,6, 7, 8, 9]] = 0"
   ]
  },
  {
   "cell_type": "markdown",
   "metadata": {},
   "source": [
    "###### Adding some gaussian noise:"
   ]
  },
  {
   "cell_type": "code",
   "execution_count": 601,
   "metadata": {},
   "outputs": [],
   "source": [
    "df_riser = df_riser.set_index('ds')\n",
    "mu, sigma = 0, 5e-3\n",
    "noise = np.random.normal(mu, sigma, df_riser.shape)\n",
    "df_riser = df_riser + noise"
   ]
  },
  {
   "cell_type": "markdown",
   "metadata": {},
   "source": [
    "###### Some visualization for the data:"
   ]
  },
  {
   "cell_type": "code",
   "execution_count": 602,
   "metadata": {},
   "outputs": [
    {
     "data": {
      "image/png": "[encoded data removed]",
      "text/plain": [
       "<Figure size 432x288 with 1 Axes>"
      ]
     },
     "metadata": {
      "needs_background": "light"
     },
     "output_type": "display_data"
    }
   ],
   "source": [
    "df_riser = df_riser.reset_index()\n",
    "fig,ax = plt.subplots()\n",
    "ax.plot(df_riser['ds'], df_riser['gas(m3/day)'], marker=\".\", label='real_data_w_gaussian_noise_random_spikes_missing_values')\n",
    "ax.legend()\n",
    "ax.legend(loc='center left', bbox_to_anchor=(1, 0.5))\n",
    "df_riser = df_riser.set_index('ds')"
   ]
  },
  {
   "cell_type": "markdown",
   "metadata": {},
   "source": [
    "##### Hyperparameters for the model:"
   ]
  },
  {
   "cell_type": "code",
   "execution_count": 576,
   "metadata": {},
   "outputs": [],
   "source": [
    "# Model Hyperparemeters \n",
    "FORECAST_HORIZON = 1 #secs \n",
    "PAST_HISTORY = 300\n",
    "BATCH_SIZE = 256\n",
    "BUFFER_SIZE = 10000\n",
    "EPOCHS = 30\n",
    "METRICS = ['mse']\n",
    "\n",
    "TCN_PARAMS = {\n",
    "    'nb_filters': 128,\n",
    "    'kernel_size': 3,\n",
    "    'nb_stacks': 1,\n",
    "    'dilations': [1, 2, 4, 8, 16, 32, 64],\n",
    "    'dropout_rate': 0,\n",
    "    'lr':0.001\n",
    "}"
   ]
  },
  {
   "cell_type": "code",
   "execution_count": 571,
   "metadata": {},
   "outputs": [
    {
     "name": "stdout",
     "output_type": "stream",
     "text": [
      "Model: \"sequential_22\"\n",
      "_________________________________________________________________\n",
      "Layer (type)                 Output Shape              Param #   \n",
      "=================================================================\n",
      "tcn_41 (TCN)                 (None, 64)                138048    \n",
      "_________________________________________________________________\n",
      "repeat_vector_22 (RepeatVect (None, 1, 64)             0         \n",
      "_________________________________________________________________\n",
      "dense_72 (Dense)             (None, 1, 1)              65        \n",
      "=================================================================\n",
      "Total params: 138,113\n",
      "Trainable params: 138,113\n",
      "Non-trainable params: 0\n",
      "_________________________________________________________________\n"
     ]
    }
   ],
   "source": [
    "# gas \n",
    "batch_size, timesteps, input_dim = 256, 300, 8\n",
    "output_timesteps, output_dim = 1, 1\n",
    "\n",
    "\n",
    "model2 = Sequential(\n",
    "    layers=[\n",
    "        TCN(input_shape=(timesteps, input_dim)),  # output.shape = (batch, 64)\n",
    "        RepeatVector(output_timesteps),  # output.shape = (batch, output_timesteps, 64)\n",
    "        Dense(output_dim)  # output.shape = (batch, output_timesteps, output_dim)\n",
    "    ]\n",
    ")\n",
    "\n",
    "model2.summary()\n",
    "model2.compile('adam', 'mse')"
   ]
  },
  {
   "cell_type": "markdown",
   "metadata": {},
   "source": [
    "#### Using only previous readings as an input:"
   ]
  },
  {
   "cell_type": "code",
   "execution_count": 554,
   "metadata": {},
   "outputs": [],
   "source": [
    "def univariate_data(tseries, start_index, end_index, history_size, forecast_horizon, step=1, single_step=False):\n",
    "    \"\"\"\n",
    "    Function to extract input-output windows from a time series\n",
    "    :param tseries: time series array\n",
    "    :param start_index: first value of the first x (input window)\n",
    "    :param end_index: first value of the last y (output window)\n",
    "    :param history_size: size of input window\n",
    "    :param forecast_horizon: size of output prediction window\n",
    "    :param step: sampling of time series for creating input windows\n",
    "    :param single_step: single or multi-step prediction window\n",
    "    :return: data (x), labels (y)\n",
    "    \"\"\"\n",
    "\n",
    "    data = []\n",
    "    labels = []\n",
    "\n",
    "    start_index = start_index + history_size\n",
    "\n",
    "    for i in range(start_index, end_index - forecast_horizon + 1):\n",
    "        indices = range(i - history_size, i, step)\n",
    "        # Reshape data from (history_size,) to (history_size, 1)\n",
    "        data.append(np.reshape(tseries[indices], (history_size, 1)))\n",
    "\n",
    "        if single_step:\n",
    "            labels.append(tseries[i + forecast_horizon])\n",
    "        else:\n",
    "            labels.append(tseries[i:i + forecast_horizon])\n",
    "\n",
    "    return np.array(data), np.array(labels)"
   ]
  },
  {
   "cell_type": "code",
   "execution_count": 583,
   "metadata": {},
   "outputs": [],
   "source": [
    "## we are going to consider gas for now\n",
    "x_uni, y_uni = univariate_data(dt_gas, 0, 2000, 300, 1, step=1, single_step=False)\n",
    "valX_uni , valY_uni = univariate_data(dt_gas, 2000, 3000, 300, 1, step=1, single_step=False)\n",
    "testX_riser_uni, testY_riser_uni = univariate_data(dt_gas,2500, 3000, 300, 1, step=1, single_step=False)\n",
    "# to avoid combatibality issues\n",
    "x_uni = x_uni.astype(np.float32)\n",
    "y = y.astype(np.float32)\n",
    "valX_uni = valX_uni.astype(np.float32)\n",
    "valY = valY.astype(np.float32)\n",
    "testX_riser_uni = testX_riser_uni.astype(np.float32)\n",
    "testY_riser_uni = testY_riser_uni.astype(np.float32)"
   ]
  },
  {
   "cell_type": "code",
   "execution_count": 563,
   "metadata": {},
   "outputs": [],
   "source": [
    "train_data_uni = tf.data.Dataset.from_tensor_slices((x, y)).cache().shuffle(BUFFER_SIZE).batch(BATCH_SIZE).repeat()\n",
    "val_data_uni = tf.data.Dataset.from_tensor_slices((valX, valY)).batch(BATCH_SIZE).repeat()"
   ]
  },
  {
   "cell_type": "markdown",
   "metadata": {},
   "source": [
    "##### Using previous readings of pressure and flowrate:"
   ]
  },
  {
   "cell_type": "code",
   "execution_count": 556,
   "metadata": {},
   "outputs": [],
   "source": [
    "def multivariate_data(tseries, start_index, end_index, history_size, forecast_horizon, step=1):\n",
    "    data = []\n",
    "    labels = []\n",
    "    indices = []\n",
    "    for i in range(start_index, end_index -history_size +1):\n",
    "        end = i+history_size\n",
    "        data.append(tseries[i:end, :])\n",
    "        labels.append(tseries[end:end+1, -1])\n",
    "        indices.append(end)\n",
    "\n",
    "    return np.array(data), np.array(labels), indices"
   ]
  },
  {
   "cell_type": "code",
   "execution_count": 584,
   "metadata": {},
   "outputs": [],
   "source": [
    "## we are going to consider the gas for now\n",
    "x_mult, y_mult, _ = multivariate_data(np.array(df_gas_riser), 0, 2000, PAST_HISTORY, FORECAST_HORIZON, step=1)\n",
    "valX_mult , valY_mult, _ = multivariate_data(np.array(df_gas_riser), 2000, 3000, PAST_HISTORY, FORECAST_HORIZON, step=1)\n",
    "testX_riser_mult, testY_riser_mult, indices = multivariate_data(np.array(df_gas_riser), 2500, 3000, PAST_HISTORY, FORECAST_HORIZON, step=1)\n",
    "# to avoid combatibility issues\n",
    "x_mult = x_mult.astype(np.float32)\n",
    "y_mult = y_mult.astype(np.float32)\n",
    "valX_mult = valX_mult.astype(np.float32)\n",
    "valY_mult = valY_mult.astype(np.float32)\n",
    "testX_riser_mult = testX_riser_mult.astype(np.float32)\n",
    "testY_riser_mult = testY_riser_mult.astype(np.float32)"
   ]
  },
  {
   "cell_type": "code",
   "execution_count": 585,
   "metadata": {},
   "outputs": [],
   "source": [
    "train_data_mult = tf.data.Dataset.from_tensor_slices((x_mult, y_mult)).cache().shuffle(BUFFER_SIZE).batch(BATCH_SIZE).repeat()\n",
    "val_data_mult = tf.data.Dataset.from_tensor_slices((valX_mult, valY_mult)).batch(BATCH_SIZE).repeat()"
   ]
  },
  {
   "cell_type": "markdown",
   "metadata": {},
   "source": [
    "##### Model fitting:"
   ]
  },
  {
   "cell_type": "code",
   "execution_count": 586,
   "metadata": {},
   "outputs": [
    {
     "name": "stdout",
     "output_type": "stream",
     "text": [
      "Epoch 1/200\n",
      "7/7 [==============================] - 10s 1s/step - loss: 8.1564e-05 - val_loss: 0.0309\n",
      "Epoch 2/200\n",
      "7/7 [==============================] - 10s 1s/step - loss: 7.6841e-05 - val_loss: 0.0310\n",
      "Epoch 3/200\n",
      "7/7 [==============================] - 10s 1s/step - loss: 7.3845e-05 - val_loss: 0.0310\n",
      "Epoch 4/200\n",
      "7/7 [==============================] - 10s 1s/step - loss: 6.9635e-05 - val_loss: 0.0310\n",
      "Epoch 5/200\n",
      "7/7 [==============================] - 10s 1s/step - loss: 6.6447e-05 - val_loss: 0.0310\n",
      "Epoch 6/200\n",
      "7/7 [==============================] - 10s 1s/step - loss: 6.3352e-05 - val_loss: 0.0311\n",
      "Epoch 7/200\n",
      "7/7 [==============================] - 10s 1s/step - loss: 6.0058e-05 - val_loss: 0.0311\n",
      "Epoch 8/200\n",
      "7/7 [==============================] - 10s 1s/step - loss: 5.7735e-05 - val_loss: 0.0311\n",
      "Epoch 9/200\n",
      "7/7 [==============================] - 10s 1s/step - loss: 5.4712e-05 - val_loss: 0.0311\n",
      "Epoch 10/200\n",
      "7/7 [==============================] - 10s 1s/step - loss: 5.2272e-05 - val_loss: 0.0311\n",
      "Epoch 11/200\n",
      "7/7 [==============================] - 10s 1s/step - loss: 4.9846e-05 - val_loss: 0.0311\n",
      "Epoch 12/200\n",
      "7/7 [==============================] - 10s 1s/step - loss: 4.7541e-05 - val_loss: 0.0312\n",
      "Epoch 13/200\n",
      "7/7 [==============================] - 10s 1s/step - loss: 4.4855e-05 - val_loss: 0.0312\n",
      "Epoch 14/200\n",
      "7/7 [==============================] - 10s 2s/step - loss: 4.2206e-05 - val_loss: 0.0312\n",
      "Epoch 15/200\n",
      "7/7 [==============================] - 10s 1s/step - loss: 4.0225e-05 - val_loss: 0.0312\n",
      "Epoch 16/200\n",
      "7/7 [==============================] - 10s 1s/step - loss: 3.8620e-05 - val_loss: 0.0312\n",
      "Epoch 17/200\n",
      "7/7 [==============================] - 10s 1s/step - loss: 3.6328e-05 - val_loss: 0.0312\n",
      "Epoch 18/200\n",
      "7/7 [==============================] - 10s 1s/step - loss: 3.4943e-05 - val_loss: 0.0313\n",
      "Epoch 19/200\n",
      "7/7 [==============================] - 10s 1s/step - loss: 3.3232e-05 - val_loss: 0.0313\n",
      "Epoch 20/200\n",
      "7/7 [==============================] - 10s 2s/step - loss: 3.1636e-05 - val_loss: 0.0313\n",
      "Epoch 21/200\n",
      "7/7 [==============================] - 10s 1s/step - loss: 3.0252e-05 - val_loss: 0.0313\n",
      "Epoch 22/200\n",
      "7/7 [==============================] - 10s 1s/step - loss: 2.8541e-05 - val_loss: 0.0313\n",
      "Epoch 23/200\n",
      "7/7 [==============================] - 10s 2s/step - loss: 2.6996e-05 - val_loss: 0.0313\n",
      "Epoch 24/200\n",
      "7/7 [==============================] - 11s 2s/step - loss: 2.5621e-05 - val_loss: 0.0313\n",
      "Epoch 25/200\n",
      "7/7 [==============================] - 12s 2s/step - loss: 2.4366e-05 - val_loss: 0.0314\n",
      "Epoch 26/200\n",
      "7/7 [==============================] - 14s 2s/step - loss: 2.3138e-05 - val_loss: 0.0314\n",
      "Epoch 27/200\n",
      "7/7 [==============================] - 12s 2s/step - loss: 2.1936e-05 - val_loss: 0.0314\n",
      "Epoch 28/200\n",
      "7/7 [==============================] - 10s 2s/step - loss: 2.0969e-05 - val_loss: 0.0314\n",
      "Epoch 29/200\n",
      "7/7 [==============================] - 11s 2s/step - loss: 1.9813e-05 - val_loss: 0.0314\n",
      "Epoch 30/200\n",
      "7/7 [==============================] - 13s 2s/step - loss: 1.8816e-05 - val_loss: 0.0314\n",
      "Epoch 31/200\n",
      "7/7 [==============================] - 11s 2s/step - loss: 1.7928e-05 - val_loss: 0.0314\n",
      "Epoch 32/200\n",
      "7/7 [==============================] - 14s 2s/step - loss: 1.7010e-05 - val_loss: 0.0314\n",
      "Epoch 33/200\n",
      "7/7 [==============================] - 10s 1s/step - loss: 1.6134e-05 - val_loss: 0.0315\n",
      "Epoch 34/200\n",
      "7/7 [==============================] - 11s 2s/step - loss: 1.5204e-05 - val_loss: 0.0315\n",
      "Epoch 35/200\n",
      "7/7 [==============================] - 11s 2s/step - loss: 1.4481e-05 - val_loss: 0.0315\n",
      "Epoch 36/200\n",
      "7/7 [==============================] - 10s 1s/step - loss: 1.3604e-05 - val_loss: 0.0315\n",
      "Epoch 37/200\n",
      "7/7 [==============================] - 13s 2s/step - loss: 1.3013e-05 - val_loss: 0.0315\n",
      "Epoch 38/200\n",
      "7/7 [==============================] - 11s 2s/step - loss: 1.2356e-05 - val_loss: 0.0315\n",
      "Epoch 39/200\n",
      "7/7 [==============================] - 13s 2s/step - loss: 1.1663e-05 - val_loss: 0.0315\n",
      "Epoch 40/200\n",
      "7/7 [==============================] - 11s 2s/step - loss: 1.1165e-05 - val_loss: 0.0315\n",
      "Epoch 41/200\n",
      "7/7 [==============================] - 14s 2s/step - loss: 1.0606e-05 - val_loss: 0.0315\n",
      "Epoch 42/200\n",
      "7/7 [==============================] - 13s 2s/step - loss: 1.0124e-05 - val_loss: 0.0315\n",
      "Epoch 43/200\n",
      "7/7 [==============================] - 10s 2s/step - loss: 9.7387e-06 - val_loss: 0.0316\n",
      "Epoch 44/200\n",
      "7/7 [==============================] - 10s 1s/step - loss: 9.1341e-06 - val_loss: 0.0316\n",
      "Epoch 45/200\n",
      "7/7 [==============================] - 10s 1s/step - loss: 8.5624e-06 - val_loss: 0.0316\n",
      "Epoch 46/200\n",
      "7/7 [==============================] - 10s 1s/step - loss: 8.2090e-06 - val_loss: 0.0316\n",
      "Epoch 47/200\n",
      "7/7 [==============================] - 10s 1s/step - loss: 7.8139e-06 - val_loss: 0.0316\n",
      "Epoch 48/200\n",
      "7/7 [==============================] - 10s 1s/step - loss: 7.3856e-06 - val_loss: 0.0316\n",
      "Epoch 49/200\n",
      "7/7 [==============================] - 10s 1s/step - loss: 6.9993e-06 - val_loss: 0.0316\n",
      "Epoch 50/200\n",
      "7/7 [==============================] - 10s 1s/step - loss: 6.6166e-06 - val_loss: 0.0316\n",
      "Epoch 51/200\n",
      "7/7 [==============================] - 10s 1s/step - loss: 6.3375e-06 - val_loss: 0.0316\n",
      "Epoch 52/200\n",
      "7/7 [==============================] - 10s 1s/step - loss: 6.0117e-06 - val_loss: 0.0316\n",
      "Epoch 53/200\n",
      "7/7 [==============================] - 11s 2s/step - loss: 5.7765e-06 - val_loss: 0.0316\n",
      "Epoch 54/200\n",
      "7/7 [==============================] - 10s 1s/step - loss: 5.5140e-06 - val_loss: 0.0316\n",
      "Epoch 55/200\n",
      "7/7 [==============================] - 10s 1s/step - loss: 5.2016e-06 - val_loss: 0.0316\n",
      "Epoch 56/200\n",
      "7/7 [==============================] - 10s 1s/step - loss: 4.8933e-06 - val_loss: 0.0316\n",
      "Epoch 57/200\n",
      "7/7 [==============================] - 10s 1s/step - loss: 4.6057e-06 - val_loss: 0.0316\n",
      "Epoch 58/200\n",
      "7/7 [==============================] - 10s 1s/step - loss: 4.3925e-06 - val_loss: 0.0317\n",
      "Epoch 59/200\n",
      "7/7 [==============================] - 10s 1s/step - loss: 4.1742e-06 - val_loss: 0.0317\n",
      "Epoch 60/200\n",
      "7/7 [==============================] - 10s 1s/step - loss: 3.9546e-06 - val_loss: 0.0317\n",
      "Epoch 61/200\n",
      "7/7 [==============================] - 10s 1s/step - loss: 3.7788e-06 - val_loss: 0.0317\n",
      "Epoch 62/200\n",
      "7/7 [==============================] - 10s 1s/step - loss: 3.5384e-06 - val_loss: 0.0317\n",
      "Epoch 63/200\n",
      "7/7 [==============================] - 10s 1s/step - loss: 3.4261e-06 - val_loss: 0.0317\n",
      "Epoch 64/200\n",
      "7/7 [==============================] - 10s 1s/step - loss: 3.2510e-06 - val_loss: 0.0317\n",
      "Epoch 65/200\n",
      "7/7 [==============================] - 10s 1s/step - loss: 3.0756e-06 - val_loss: 0.0317\n",
      "Epoch 66/200\n",
      "7/7 [==============================] - 10s 1s/step - loss: 2.9454e-06 - val_loss: 0.0317\n",
      "Epoch 67/200\n",
      "7/7 [==============================] - 10s 1s/step - loss: 2.7396e-06 - val_loss: 0.0317\n",
      "Epoch 68/200\n",
      "7/7 [==============================] - 10s 1s/step - loss: 2.6249e-06 - val_loss: 0.0317\n",
      "Epoch 69/200\n",
      "7/7 [==============================] - 10s 1s/step - loss: 2.4690e-06 - val_loss: 0.0317\n",
      "Epoch 70/200\n",
      "7/7 [==============================] - 10s 1s/step - loss: 2.3586e-06 - val_loss: 0.0317\n",
      "Epoch 71/200\n",
      "7/7 [==============================] - 10s 1s/step - loss: 2.2348e-06 - val_loss: 0.0317\n",
      "Epoch 72/200\n",
      "7/7 [==============================] - 10s 1s/step - loss: 2.1210e-06 - val_loss: 0.0317\n",
      "Epoch 73/200\n",
      "7/7 [==============================] - 10s 1s/step - loss: 2.0400e-06 - val_loss: 0.0317\n",
      "Epoch 74/200\n",
      "7/7 [==============================] - 10s 1s/step - loss: 1.9057e-06 - val_loss: 0.0317\n",
      "Epoch 75/200\n",
      "7/7 [==============================] - 10s 1s/step - loss: 1.8286e-06 - val_loss: 0.0317\n",
      "Epoch 76/200\n",
      "7/7 [==============================] - 10s 1s/step - loss: 1.7379e-06 - val_loss: 0.0317\n",
      "Epoch 77/200\n",
      "7/7 [==============================] - 10s 1s/step - loss: 1.6488e-06 - val_loss: 0.0317\n",
      "Epoch 78/200\n",
      "7/7 [==============================] - 10s 1s/step - loss: 1.5535e-06 - val_loss: 0.0317\n",
      "Epoch 79/200\n",
      "7/7 [==============================] - 10s 1s/step - loss: 1.4794e-06 - val_loss: 0.0317\n",
      "Epoch 80/200\n",
      "7/7 [==============================] - 10s 1s/step - loss: 1.4157e-06 - val_loss: 0.0317\n",
      "Epoch 81/200\n"
     ]
    },
    {
     "name": "stdout",
     "output_type": "stream",
     "text": [
      "7/7 [==============================] - 10s 1s/step - loss: 1.3206e-06 - val_loss: 0.0318\n",
      "Epoch 82/200\n",
      "7/7 [==============================] - 10s 1s/step - loss: 1.2710e-06 - val_loss: 0.0317\n",
      "Epoch 83/200\n",
      "7/7 [==============================] - 10s 1s/step - loss: 1.2019e-06 - val_loss: 0.0318\n",
      "Epoch 84/200\n",
      "7/7 [==============================] - 10s 1s/step - loss: 1.1404e-06 - val_loss: 0.0318\n",
      "Epoch 85/200\n",
      "7/7 [==============================] - 10s 1s/step - loss: 1.1169e-06 - val_loss: 0.0318\n",
      "Epoch 86/200\n",
      "7/7 [==============================] - 10s 1s/step - loss: 1.0649e-06 - val_loss: 0.0318\n",
      "Epoch 87/200\n",
      "7/7 [==============================] - 10s 1s/step - loss: 9.7261e-07 - val_loss: 0.0318\n",
      "Epoch 88/200\n",
      "7/7 [==============================] - 10s 1s/step - loss: 9.2020e-07 - val_loss: 0.0318\n",
      "Epoch 89/200\n",
      "7/7 [==============================] - 10s 1s/step - loss: 8.6435e-07 - val_loss: 0.0318\n",
      "Epoch 90/200\n",
      "7/7 [==============================] - 10s 1s/step - loss: 8.1759e-07 - val_loss: 0.0318\n",
      "Epoch 91/200\n",
      "7/7 [==============================] - 10s 1s/step - loss: 7.8480e-07 - val_loss: 0.0318\n",
      "Epoch 92/200\n",
      "7/7 [==============================] - 10s 1s/step - loss: 7.3722e-07 - val_loss: 0.0318\n",
      "Epoch 93/200\n",
      "7/7 [==============================] - 10s 1s/step - loss: 6.9629e-07 - val_loss: 0.0318\n",
      "Epoch 94/200\n",
      "7/7 [==============================] - 10s 1s/step - loss: 6.7507e-07 - val_loss: 0.0318\n",
      "Epoch 95/200\n",
      "7/7 [==============================] - 10s 1s/step - loss: 6.4435e-07 - val_loss: 0.0318\n",
      "Epoch 96/200\n",
      "7/7 [==============================] - 10s 1s/step - loss: 6.2956e-07 - val_loss: 0.0318\n",
      "Epoch 97/200\n",
      "7/7 [==============================] - 10s 1s/step - loss: 6.1779e-07 - val_loss: 0.0318\n",
      "Epoch 98/200\n",
      "7/7 [==============================] - 10s 1s/step - loss: 5.8157e-07 - val_loss: 0.0318\n",
      "Epoch 99/200\n",
      "7/7 [==============================] - 10s 1s/step - loss: 5.7509e-07 - val_loss: 0.0318\n",
      "Epoch 100/200\n",
      "7/7 [==============================] - 10s 1s/step - loss: 5.2331e-07 - val_loss: 0.0318\n",
      "Epoch 101/200\n",
      "7/7 [==============================] - 10s 1s/step - loss: 5.0190e-07 - val_loss: 0.0318\n",
      "Epoch 102/200\n",
      "7/7 [==============================] - 10s 1s/step - loss: 4.5543e-07 - val_loss: 0.0318\n",
      "Epoch 103/200\n",
      "7/7 [==============================] - 10s 1s/step - loss: 4.3452e-07 - val_loss: 0.0318\n",
      "Epoch 104/200\n",
      "7/7 [==============================] - 10s 1s/step - loss: 4.2248e-07 - val_loss: 0.0318\n",
      "Epoch 105/200\n",
      "7/7 [==============================] - 10s 1s/step - loss: 3.9497e-07 - val_loss: 0.0318\n",
      "Epoch 106/200\n",
      "7/7 [==============================] - 10s 1s/step - loss: 3.9263e-07 - val_loss: 0.0318\n",
      "Epoch 107/200\n",
      "7/7 [==============================] - 10s 1s/step - loss: 4.0544e-07 - val_loss: 0.0318\n",
      "Epoch 108/200\n",
      "7/7 [==============================] - 10s 1s/step - loss: 3.7446e-07 - val_loss: 0.0318\n",
      "Epoch 109/200\n",
      "7/7 [==============================] - 10s 1s/step - loss: 3.8251e-07 - val_loss: 0.0318\n",
      "Epoch 110/200\n",
      "7/7 [==============================] - 10s 1s/step - loss: 3.6397e-07 - val_loss: 0.0318\n",
      "Epoch 111/200\n",
      "7/7 [==============================] - 10s 1s/step - loss: 3.7665e-07 - val_loss: 0.0318\n",
      "Epoch 112/200\n",
      "7/7 [==============================] - 11s 2s/step - loss: 3.3204e-07 - val_loss: 0.0318\n",
      "Epoch 113/200\n",
      "7/7 [==============================] - 10s 1s/step - loss: 3.0320e-07 - val_loss: 0.0318\n",
      "Epoch 114/200\n",
      "7/7 [==============================] - 10s 1s/step - loss: 2.7211e-07 - val_loss: 0.0318\n",
      "Epoch 115/200\n",
      "7/7 [==============================] - 10s 2s/step - loss: 2.5384e-07 - val_loss: 0.0318\n",
      "Epoch 116/200\n",
      "7/7 [==============================] - 10s 1s/step - loss: 2.4262e-07 - val_loss: 0.0318\n",
      "Epoch 117/200\n",
      "7/7 [==============================] - 10s 1s/step - loss: 2.4209e-07 - val_loss: 0.0318\n",
      "Epoch 118/200\n",
      "7/7 [==============================] - 10s 1s/step - loss: 2.3507e-07 - val_loss: 0.0318\n",
      "Epoch 119/200\n",
      "7/7 [==============================] - 10s 1s/step - loss: 2.3739e-07 - val_loss: 0.0318\n",
      "Epoch 120/200\n",
      "7/7 [==============================] - 10s 2s/step - loss: 2.3734e-07 - val_loss: 0.0318\n",
      "Epoch 121/200\n",
      "7/7 [==============================] - 11s 2s/step - loss: 2.1687e-07 - val_loss: 0.0318\n",
      "Epoch 122/200\n",
      "7/7 [==============================] - 10s 1s/step - loss: 2.1695e-07 - val_loss: 0.0318\n",
      "Epoch 123/200\n",
      "7/7 [==============================] - 10s 1s/step - loss: 2.4504e-07 - val_loss: 0.0318\n",
      "Epoch 124/200\n",
      "7/7 [==============================] - 10s 1s/step - loss: 2.4054e-07 - val_loss: 0.0318\n",
      "Epoch 125/200\n",
      "7/7 [==============================] - 10s 1s/step - loss: 2.6288e-07 - val_loss: 0.0318\n",
      "Epoch 126/200\n",
      "7/7 [==============================] - 10s 1s/step - loss: 2.8315e-07 - val_loss: 0.0318\n",
      "Epoch 127/200\n",
      "7/7 [==============================] - 12s 2s/step - loss: 3.1866e-07 - val_loss: 0.0318\n",
      "Epoch 128/200\n",
      "7/7 [==============================] - 13s 2s/step - loss: 3.2962e-07 - val_loss: 0.0318\n",
      "Epoch 129/200\n",
      "7/7 [==============================] - 10s 2s/step - loss: 3.0237e-07 - val_loss: 0.0318\n",
      "Epoch 130/200\n",
      "7/7 [==============================] - 10s 1s/step - loss: 3.6150e-07 - val_loss: 0.0318\n",
      "Epoch 131/200\n",
      "7/7 [==============================] - 10s 1s/step - loss: 3.7136e-07 - val_loss: 0.0318\n",
      "Epoch 132/200\n",
      "7/7 [==============================] - 10s 1s/step - loss: 3.4236e-07 - val_loss: 0.0318\n",
      "Epoch 133/200\n",
      "7/7 [==============================] - 10s 1s/step - loss: 5.3398e-07 - val_loss: 0.0318\n",
      "Epoch 134/200\n",
      "7/7 [==============================] - 10s 1s/step - loss: 4.9283e-07 - val_loss: 0.0318\n",
      "Epoch 135/200\n",
      "7/7 [==============================] - 10s 1s/step - loss: 4.8781e-07 - val_loss: 0.0318\n",
      "Epoch 136/200\n",
      "7/7 [==============================] - 10s 1s/step - loss: 6.7054e-07 - val_loss: 0.0318\n",
      "Epoch 137/200\n",
      "7/7 [==============================] - 10s 1s/step - loss: 1.5507e-06 - val_loss: 0.0318\n",
      "Epoch 138/200\n",
      "7/7 [==============================] - 10s 1s/step - loss: 1.4371e-06 - val_loss: 0.0318\n",
      "Epoch 139/200\n",
      "7/7 [==============================] - 10s 1s/step - loss: 1.1259e-06 - val_loss: 0.0318\n",
      "Epoch 140/200\n",
      "7/7 [==============================] - 10s 2s/step - loss: 1.4521e-06 - val_loss: 0.0319\n",
      "Epoch 141/200\n",
      "7/7 [==============================] - 10s 1s/step - loss: 1.2040e-06 - val_loss: 0.0318\n",
      "Epoch 142/200\n",
      "7/7 [==============================] - 10s 1s/step - loss: 9.2507e-07 - val_loss: 0.0318\n",
      "Epoch 143/200\n",
      "7/7 [==============================] - 10s 1s/step - loss: 9.5016e-07 - val_loss: 0.0318\n",
      "Epoch 144/200\n",
      "7/7 [==============================] - 10s 1s/step - loss: 1.3980e-06 - val_loss: 0.0319\n",
      "Epoch 145/200\n",
      "7/7 [==============================] - 10s 1s/step - loss: 1.1138e-06 - val_loss: 0.0318\n",
      "Epoch 146/200\n",
      "7/7 [==============================] - 10s 1s/step - loss: 1.0802e-06 - val_loss: 0.0319\n",
      "Epoch 147/200\n",
      "7/7 [==============================] - 10s 1s/step - loss: 1.3347e-06 - val_loss: 0.0318\n",
      "Epoch 148/200\n",
      "7/7 [==============================] - 10s 1s/step - loss: 2.0389e-06 - val_loss: 0.0318\n",
      "Epoch 149/200\n",
      "7/7 [==============================] - 10s 2s/step - loss: 2.6975e-06 - val_loss: 0.0318\n",
      "Epoch 150/200\n",
      "7/7 [==============================] - 10s 1s/step - loss: 2.6733e-06 - val_loss: 0.0318\n",
      "Epoch 151/200\n",
      "7/7 [==============================] - 10s 1s/step - loss: 2.4377e-06 - val_loss: 0.0318\n",
      "Epoch 152/200\n",
      "7/7 [==============================] - 10s 1s/step - loss: 2.0097e-06 - val_loss: 0.0318\n",
      "Epoch 153/200\n",
      "7/7 [==============================] - 10s 1s/step - loss: 2.2640e-06 - val_loss: 0.0318\n",
      "Epoch 154/200\n",
      "7/7 [==============================] - 10s 1s/step - loss: 2.9297e-06 - val_loss: 0.0319\n",
      "Epoch 155/200\n",
      "7/7 [==============================] - 10s 1s/step - loss: 3.3590e-06 - val_loss: 0.0318\n",
      "Epoch 156/200\n",
      "7/7 [==============================] - 10s 1s/step - loss: 5.7533e-06 - val_loss: 0.0319\n",
      "Epoch 157/200\n",
      "7/7 [==============================] - 10s 1s/step - loss: 6.6553e-06 - val_loss: 0.0317\n",
      "Epoch 158/200\n",
      "7/7 [==============================] - 10s 1s/step - loss: 7.1041e-06 - val_loss: 0.0319\n",
      "Epoch 159/200\n",
      "7/7 [==============================] - 10s 1s/step - loss: 9.5635e-06 - val_loss: 0.0318\n",
      "Epoch 160/200\n",
      "7/7 [==============================] - 10s 1s/step - loss: 1.3297e-05 - val_loss: 0.0319\n"
     ]
    },
    {
     "name": "stdout",
     "output_type": "stream",
     "text": [
      "Epoch 161/200\n",
      "7/7 [==============================] - 10s 1s/step - loss: 1.6519e-05 - val_loss: 0.0319\n",
      "Epoch 162/200\n",
      "7/7 [==============================] - 10s 1s/step - loss: 2.5034e-05 - val_loss: 0.0319\n",
      "Epoch 163/200\n",
      "7/7 [==============================] - 10s 1s/step - loss: 2.3602e-05 - val_loss: 0.0318\n",
      "Epoch 164/200\n",
      "7/7 [==============================] - 10s 1s/step - loss: 3.0053e-05 - val_loss: 0.0319\n",
      "Epoch 165/200\n",
      "7/7 [==============================] - 10s 1s/step - loss: 3.5887e-05 - val_loss: 0.0317\n",
      "Epoch 166/200\n",
      "7/7 [==============================] - 11s 2s/step - loss: 3.7689e-05 - val_loss: 0.0321\n",
      "Epoch 167/200\n",
      "7/7 [==============================] - 10s 2s/step - loss: 3.7080e-05 - val_loss: 0.0319\n",
      "Epoch 168/200\n",
      "7/7 [==============================] - 13s 2s/step - loss: 3.2612e-05 - val_loss: 0.0318\n",
      "Epoch 169/200\n",
      "7/7 [==============================] - 11s 2s/step - loss: 3.2932e-05 - val_loss: 0.0317\n",
      "Epoch 170/200\n",
      "7/7 [==============================] - 10s 1s/step - loss: 5.0121e-05 - val_loss: 0.0317\n",
      "Epoch 171/200\n",
      "7/7 [==============================] - 10s 1s/step - loss: 4.6678e-05 - val_loss: 0.0318\n",
      "Epoch 172/200\n",
      "7/7 [==============================] - 10s 1s/step - loss: 5.2439e-05 - val_loss: 0.0318\n",
      "Epoch 173/200\n",
      "7/7 [==============================] - 10s 1s/step - loss: 4.9116e-05 - val_loss: 0.0321\n",
      "Epoch 174/200\n",
      "7/7 [==============================] - 14s 2s/step - loss: 4.4717e-05 - val_loss: 0.0317\n",
      "Epoch 175/200\n",
      "7/7 [==============================] - 11s 2s/step - loss: 3.4682e-05 - val_loss: 0.0317\n",
      "Epoch 176/200\n",
      "7/7 [==============================] - 10s 1s/step - loss: 3.1343e-05 - val_loss: 0.0317\n",
      "Epoch 177/200\n",
      "7/7 [==============================] - 10s 1s/step - loss: 2.4973e-05 - val_loss: 0.0319\n",
      "Epoch 178/200\n",
      "7/7 [==============================] - 10s 1s/step - loss: 2.5021e-05 - val_loss: 0.0318\n",
      "Epoch 179/200\n",
      "7/7 [==============================] - 10s 1s/step - loss: 1.8864e-05 - val_loss: 0.0317\n",
      "Epoch 180/200\n",
      "7/7 [==============================] - 10s 1s/step - loss: 2.7920e-05 - val_loss: 0.0318\n",
      "Epoch 181/200\n",
      "7/7 [==============================] - 10s 1s/step - loss: 2.5723e-05 - val_loss: 0.0318\n",
      "Epoch 182/200\n",
      "7/7 [==============================] - 10s 1s/step - loss: 3.1285e-05 - val_loss: 0.0317\n",
      "Epoch 183/200\n",
      "7/7 [==============================] - 10s 1s/step - loss: 3.2535e-05 - val_loss: 0.0318\n",
      "Epoch 184/200\n",
      "7/7 [==============================] - 10s 1s/step - loss: 3.1259e-05 - val_loss: 0.0316\n",
      "Epoch 185/200\n",
      "7/7 [==============================] - 10s 1s/step - loss: 2.8363e-05 - val_loss: 0.0318\n",
      "Epoch 186/200\n",
      "7/7 [==============================] - 10s 1s/step - loss: 3.7892e-05 - val_loss: 0.0319\n",
      "Epoch 187/200\n",
      "7/7 [==============================] - 10s 1s/step - loss: 5.3586e-05 - val_loss: 0.0316\n",
      "Epoch 188/200\n",
      "7/7 [==============================] - 10s 1s/step - loss: 4.2796e-05 - val_loss: 0.0317\n",
      "Epoch 189/200\n",
      "7/7 [==============================] - 10s 1s/step - loss: 5.0098e-05 - val_loss: 0.0316\n",
      "Epoch 190/200\n",
      "7/7 [==============================] - 10s 1s/step - loss: 6.4437e-05 - val_loss: 0.0319\n",
      "Epoch 191/200\n",
      "7/7 [==============================] - 11s 2s/step - loss: 4.9511e-05 - val_loss: 0.0316\n",
      "Epoch 192/200\n",
      "7/7 [==============================] - 10s 1s/step - loss: 5.1246e-05 - val_loss: 0.0316\n",
      "Epoch 193/200\n",
      "7/7 [==============================] - 10s 1s/step - loss: 3.7624e-05 - val_loss: 0.0317\n",
      "Epoch 194/200\n",
      "7/7 [==============================] - 10s 1s/step - loss: 4.7594e-05 - val_loss: 0.0317\n",
      "Epoch 195/200\n",
      "7/7 [==============================] - 10s 1s/step - loss: 4.4375e-05 - val_loss: 0.0316\n",
      "Epoch 196/200\n",
      "7/7 [==============================] - 10s 1s/step - loss: 4.2050e-05 - val_loss: 0.0318\n",
      "Epoch 197/200\n",
      "7/7 [==============================] - 10s 1s/step - loss: 4.9566e-05 - val_loss: 0.0316\n",
      "Epoch 198/200\n",
      "7/7 [==============================] - 10s 1s/step - loss: 6.4230e-05 - val_loss: 0.0316\n",
      "Epoch 199/200\n",
      "7/7 [==============================] - 10s 1s/step - loss: 5.2088e-05 - val_loss: 0.0316\n",
      "Epoch 200/200\n",
      "7/7 [==============================] - 10s 1s/step - loss: 6.4135e-05 - val_loss: 0.0315\n"
     ]
    }
   ],
   "source": [
    "evaluation_interval = int(np.ceil(x_mult.shape[0] / BATCH_SIZE))\n",
    "history = model2.fit(train_data_mult, epochs=200, steps_per_epoch=evaluation_interval, validation_data=val_data_mult, validation_steps=evaluation_interval)"
   ]
  },
  {
   "cell_type": "markdown",
   "metadata": {},
   "source": [
    "##### Parameters for model fitness:"
   ]
  },
  {
   "cell_type": "code",
   "execution_count": 587,
   "metadata": {},
   "outputs": [
    {
     "data": {
      "text/plain": [
       "0.018368922"
      ]
     },
     "execution_count": 587,
     "metadata": {},
     "output_type": "execute_result"
    }
   ],
   "source": [
    "mean_squared_error(model2.predict(testX_riser_mult).flatten(), testY_riser_mult.flatten())"
   ]
  },
  {
   "cell_type": "code",
   "execution_count": null,
   "metadata": {},
   "outputs": [],
   "source": []
  },
  {
   "cell_type": "code",
   "execution_count": 507,
   "metadata": {},
   "outputs": [
    {
     "data": {
      "text/plain": [
       "6.80297e-05"
      ]
     },
     "execution_count": 507,
     "metadata": {},
     "output_type": "execute_result"
    }
   ],
   "source": [
    "mean_squared_error(model2.predict(testX_riser).flatten(), testY_riser.flatten())"
   ]
  },
  {
   "cell_type": "code",
   "execution_count": 588,
   "metadata": {},
   "outputs": [
    {
     "data": {
      "image/png": "[encoded data removed]",
      "text/plain": [
       "<Figure size 432x288 with 1 Axes>"
      ]
     },
     "metadata": {
      "needs_background": "light"
     },
     "output_type": "display_data"
    }
   ],
   "source": [
    "# summarize history for loss\n",
    "plt.plot(history.history['loss'])\n",
    "plt.plot(history.history['val_loss'])\n",
    "plt.title('model loss')\n",
    "plt.ylabel('loss')\n",
    "plt.xlabel('epoch')\n",
    "plt.legend(['train', 'test'], loc='upper left')\n",
    "plt.show()"
   ]
  },
  {
   "cell_type": "code",
   "execution_count": 589,
   "metadata": {},
   "outputs": [],
   "source": [
    "real1 = testY_riser_mult.flatten()\n",
    "pred1 = model2.predict(testX_riser_mult).flatten()"
   ]
  },
  {
   "cell_type": "code",
   "execution_count": 591,
   "metadata": {},
   "outputs": [],
   "source": [
    "dfy=pd.DataFrame.from_dict(dict(zip(['prediction', 'real' ], np.array([pred1, real1]))))\n",
    "dfy['ds']=range(0,201)"
   ]
  },
  {
   "cell_type": "code",
   "execution_count": 592,
   "metadata": {},
   "outputs": [
    {
     "data": {
      "text/plain": [
       "<matplotlib.legend.Legend at 0x7fde7b2e4950>"
      ]
     },
     "execution_count": 592,
     "metadata": {},
     "output_type": "execute_result"
    },
    {
     "data": {
      "image/png": "[encoded data removed]",
      "text/plain": [
       "<Figure size 432x288 with 1 Axes>"
      ]
     },
     "metadata": {
      "needs_background": "light"
     },
     "output_type": "display_data"
    }
   ],
   "source": [
    "fig,ax = plt.subplots()\n",
    "ax.plot(dfy['ds'], dfy['prediction'], marker=\".\", label='pred_data_gas')\n",
    "ax.plot(dfy['ds'], dfy['real'], marker=\".\", label='real_data_gas')\n",
    "ax.legend()"
   ]
  },
  {
   "cell_type": "code",
   "execution_count": 509,
   "metadata": {},
   "outputs": [],
   "source": [
    "real = testY_riser.flatten()\n",
    "pred = model2.predict(testX_riser).flatten()"
   ]
  },
  {
   "cell_type": "code",
   "execution_count": 510,
   "metadata": {},
   "outputs": [],
   "source": [
    "# real = testY_riser.reshape(941)\n",
    "# pred = dt_pred = model2.predict(testX_riser).reshape(941)\n",
    "dfx=pd.DataFrame.from_dict(dict(zip(['prediction', 'real' ], np.array([pred, real]))))\n",
    "dfx['ds']=range(0,701)"
   ]
  },
  {
   "cell_type": "markdown",
   "metadata": {},
   "source": [
    "##### Trying to predict using out TCN model:"
   ]
  },
  {
   "cell_type": "code",
   "execution_count": 392,
   "metadata": {},
   "outputs": [
    {
     "ename": "ValueError",
     "evalue": "If using all scalar values, you must pass an index",
     "output_type": "error",
     "traceback": [
      "\u001b[0;31m---------------------------------------------------------------------------\u001b[0m",
      "\u001b[0;31mValueError\u001b[0m                                Traceback (most recent call last)",
      "\u001b[0;32m<ipython-input-392-2f196144baef>\u001b[0m in \u001b[0;36m<module>\u001b[0;34m\u001b[0m\n\u001b[1;32m      1\u001b[0m \u001b[0mdt_pred\u001b[0m \u001b[0;34m=\u001b[0m \u001b[0mmodel2\u001b[0m\u001b[0;34m.\u001b[0m\u001b[0mpredict\u001b[0m\u001b[0;34m(\u001b[0m\u001b[0mtestX_riser\u001b[0m\u001b[0;34m)\u001b[0m\u001b[0;34m\u001b[0m\u001b[0;34m\u001b[0m\u001b[0m\n\u001b[0;32m----> 2\u001b[0;31m \u001b[0mdf_pred\u001b[0m \u001b[0;34m=\u001b[0m \u001b[0mpd\u001b[0m\u001b[0;34m.\u001b[0m\u001b[0mDataFrame\u001b[0m\u001b[0;34m.\u001b[0m\u001b[0mfrom_dict\u001b[0m\u001b[0;34m(\u001b[0m\u001b[0mdict\u001b[0m\u001b[0;34m(\u001b[0m\u001b[0mzip\u001b[0m\u001b[0;34m(\u001b[0m\u001b[0;34m[\u001b[0m\u001b[0;34m'p1'\u001b[0m\u001b[0;34m,\u001b[0m \u001b[0;34m'p2'\u001b[0m\u001b[0;34m,\u001b[0m \u001b[0;34m'p3'\u001b[0m\u001b[0;34m,\u001b[0m \u001b[0;34m'p4'\u001b[0m\u001b[0;34m,\u001b[0m \u001b[0;34m'p5'\u001b[0m\u001b[0;34m,\u001b[0m \u001b[0;34m'p6'\u001b[0m\u001b[0;34m,\u001b[0m \u001b[0;34m'p7'\u001b[0m\u001b[0;34m,\u001b[0m\u001b[0;34m'gas(m3/day)'\u001b[0m\u001b[0;34m,\u001b[0m \u001b[0;34m'liquid(m3/day)'\u001b[0m \u001b[0;34m]\u001b[0m\u001b[0;34m,\u001b[0m \u001b[0mdt_pred\u001b[0m\u001b[0;34m.\u001b[0m\u001b[0mT\u001b[0m\u001b[0;34m)\u001b[0m\u001b[0;34m)\u001b[0m\u001b[0;34m)\u001b[0m\u001b[0;34m\u001b[0m\u001b[0;34m\u001b[0m\u001b[0m\n\u001b[0m\u001b[1;32m      3\u001b[0m \u001b[0mdf_pred\u001b[0m\u001b[0;34m[\u001b[0m\u001b[0;34m'ds'\u001b[0m\u001b[0;34m]\u001b[0m \u001b[0;34m=\u001b[0m \u001b[0mrange\u001b[0m\u001b[0;34m(\u001b[0m\u001b[0;36m1560\u001b[0m\u001b[0;34m,\u001b[0m \u001b[0;36m2001\u001b[0m\u001b[0;34m)\u001b[0m\u001b[0;34m\u001b[0m\u001b[0;34m\u001b[0m\u001b[0m\n",
      "\u001b[0;32m~/opt/anaconda3/lib/python3.7/site-packages/pandas/core/frame.py\u001b[0m in \u001b[0;36mfrom_dict\u001b[0;34m(cls, data, orient, dtype, columns)\u001b[0m\n\u001b[1;32m   1371\u001b[0m             \u001b[0;32mraise\u001b[0m \u001b[0mValueError\u001b[0m\u001b[0;34m(\u001b[0m\u001b[0;34m\"only recognize index or columns for orient\"\u001b[0m\u001b[0;34m)\u001b[0m\u001b[0;34m\u001b[0m\u001b[0;34m\u001b[0m\u001b[0m\n\u001b[1;32m   1372\u001b[0m \u001b[0;34m\u001b[0m\u001b[0m\n\u001b[0;32m-> 1373\u001b[0;31m         \u001b[0;32mreturn\u001b[0m \u001b[0mcls\u001b[0m\u001b[0;34m(\u001b[0m\u001b[0mdata\u001b[0m\u001b[0;34m,\u001b[0m \u001b[0mindex\u001b[0m\u001b[0;34m=\u001b[0m\u001b[0mindex\u001b[0m\u001b[0;34m,\u001b[0m \u001b[0mcolumns\u001b[0m\u001b[0;34m=\u001b[0m\u001b[0mcolumns\u001b[0m\u001b[0;34m,\u001b[0m \u001b[0mdtype\u001b[0m\u001b[0;34m=\u001b[0m\u001b[0mdtype\u001b[0m\u001b[0;34m)\u001b[0m\u001b[0;34m\u001b[0m\u001b[0;34m\u001b[0m\u001b[0m\n\u001b[0m\u001b[1;32m   1374\u001b[0m \u001b[0;34m\u001b[0m\u001b[0m\n\u001b[1;32m   1375\u001b[0m     def to_numpy(\n",
      "\u001b[0;32m~/opt/anaconda3/lib/python3.7/site-packages/pandas/core/frame.py\u001b[0m in \u001b[0;36m__init__\u001b[0;34m(self, data, index, columns, dtype, copy)\u001b[0m\n\u001b[1;32m    527\u001b[0m \u001b[0;34m\u001b[0m\u001b[0m\n\u001b[1;32m    528\u001b[0m         \u001b[0;32melif\u001b[0m \u001b[0misinstance\u001b[0m\u001b[0;34m(\u001b[0m\u001b[0mdata\u001b[0m\u001b[0;34m,\u001b[0m \u001b[0mdict\u001b[0m\u001b[0;34m)\u001b[0m\u001b[0;34m:\u001b[0m\u001b[0;34m\u001b[0m\u001b[0;34m\u001b[0m\u001b[0m\n\u001b[0;32m--> 529\u001b[0;31m             \u001b[0mmgr\u001b[0m \u001b[0;34m=\u001b[0m \u001b[0minit_dict\u001b[0m\u001b[0;34m(\u001b[0m\u001b[0mdata\u001b[0m\u001b[0;34m,\u001b[0m \u001b[0mindex\u001b[0m\u001b[0;34m,\u001b[0m \u001b[0mcolumns\u001b[0m\u001b[0;34m,\u001b[0m \u001b[0mdtype\u001b[0m\u001b[0;34m=\u001b[0m\u001b[0mdtype\u001b[0m\u001b[0;34m)\u001b[0m\u001b[0;34m\u001b[0m\u001b[0;34m\u001b[0m\u001b[0m\n\u001b[0m\u001b[1;32m    530\u001b[0m         \u001b[0;32melif\u001b[0m \u001b[0misinstance\u001b[0m\u001b[0;34m(\u001b[0m\u001b[0mdata\u001b[0m\u001b[0;34m,\u001b[0m \u001b[0mma\u001b[0m\u001b[0;34m.\u001b[0m\u001b[0mMaskedArray\u001b[0m\u001b[0;34m)\u001b[0m\u001b[0;34m:\u001b[0m\u001b[0;34m\u001b[0m\u001b[0;34m\u001b[0m\u001b[0m\n\u001b[1;32m    531\u001b[0m             \u001b[0;32mimport\u001b[0m \u001b[0mnumpy\u001b[0m\u001b[0;34m.\u001b[0m\u001b[0mma\u001b[0m\u001b[0;34m.\u001b[0m\u001b[0mmrecords\u001b[0m \u001b[0;32mas\u001b[0m \u001b[0mmrecords\u001b[0m\u001b[0;34m\u001b[0m\u001b[0;34m\u001b[0m\u001b[0m\n",
      "\u001b[0;32m~/opt/anaconda3/lib/python3.7/site-packages/pandas/core/internals/construction.py\u001b[0m in \u001b[0;36minit_dict\u001b[0;34m(data, index, columns, dtype)\u001b[0m\n\u001b[1;32m    285\u001b[0m             \u001b[0marr\u001b[0m \u001b[0;32mif\u001b[0m \u001b[0;32mnot\u001b[0m \u001b[0mis_datetime64tz_dtype\u001b[0m\u001b[0;34m(\u001b[0m\u001b[0marr\u001b[0m\u001b[0;34m)\u001b[0m \u001b[0;32melse\u001b[0m \u001b[0marr\u001b[0m\u001b[0;34m.\u001b[0m\u001b[0mcopy\u001b[0m\u001b[0;34m(\u001b[0m\u001b[0;34m)\u001b[0m \u001b[0;32mfor\u001b[0m \u001b[0marr\u001b[0m \u001b[0;32min\u001b[0m \u001b[0marrays\u001b[0m\u001b[0;34m\u001b[0m\u001b[0;34m\u001b[0m\u001b[0m\n\u001b[1;32m    286\u001b[0m         ]\n\u001b[0;32m--> 287\u001b[0;31m     \u001b[0;32mreturn\u001b[0m \u001b[0marrays_to_mgr\u001b[0m\u001b[0;34m(\u001b[0m\u001b[0marrays\u001b[0m\u001b[0;34m,\u001b[0m \u001b[0mdata_names\u001b[0m\u001b[0;34m,\u001b[0m \u001b[0mindex\u001b[0m\u001b[0;34m,\u001b[0m \u001b[0mcolumns\u001b[0m\u001b[0;34m,\u001b[0m \u001b[0mdtype\u001b[0m\u001b[0;34m=\u001b[0m\u001b[0mdtype\u001b[0m\u001b[0;34m)\u001b[0m\u001b[0;34m\u001b[0m\u001b[0;34m\u001b[0m\u001b[0m\n\u001b[0m\u001b[1;32m    288\u001b[0m \u001b[0;34m\u001b[0m\u001b[0m\n\u001b[1;32m    289\u001b[0m \u001b[0;34m\u001b[0m\u001b[0m\n",
      "\u001b[0;32m~/opt/anaconda3/lib/python3.7/site-packages/pandas/core/internals/construction.py\u001b[0m in \u001b[0;36marrays_to_mgr\u001b[0;34m(arrays, arr_names, index, columns, dtype, verify_integrity)\u001b[0m\n\u001b[1;32m     78\u001b[0m         \u001b[0;31m# figure out the index, if necessary\u001b[0m\u001b[0;34m\u001b[0m\u001b[0;34m\u001b[0m\u001b[0;34m\u001b[0m\u001b[0m\n\u001b[1;32m     79\u001b[0m         \u001b[0;32mif\u001b[0m \u001b[0mindex\u001b[0m \u001b[0;32mis\u001b[0m \u001b[0;32mNone\u001b[0m\u001b[0;34m:\u001b[0m\u001b[0;34m\u001b[0m\u001b[0;34m\u001b[0m\u001b[0m\n\u001b[0;32m---> 80\u001b[0;31m             \u001b[0mindex\u001b[0m \u001b[0;34m=\u001b[0m \u001b[0mextract_index\u001b[0m\u001b[0;34m(\u001b[0m\u001b[0marrays\u001b[0m\u001b[0;34m)\u001b[0m\u001b[0;34m\u001b[0m\u001b[0;34m\u001b[0m\u001b[0m\n\u001b[0m\u001b[1;32m     81\u001b[0m         \u001b[0;32melse\u001b[0m\u001b[0;34m:\u001b[0m\u001b[0;34m\u001b[0m\u001b[0;34m\u001b[0m\u001b[0m\n\u001b[1;32m     82\u001b[0m             \u001b[0mindex\u001b[0m \u001b[0;34m=\u001b[0m \u001b[0mensure_index\u001b[0m\u001b[0;34m(\u001b[0m\u001b[0mindex\u001b[0m\u001b[0;34m)\u001b[0m\u001b[0;34m\u001b[0m\u001b[0;34m\u001b[0m\u001b[0m\n",
      "\u001b[0;32m~/opt/anaconda3/lib/python3.7/site-packages/pandas/core/internals/construction.py\u001b[0m in \u001b[0;36mextract_index\u001b[0;34m(data)\u001b[0m\n\u001b[1;32m    389\u001b[0m \u001b[0;34m\u001b[0m\u001b[0m\n\u001b[1;32m    390\u001b[0m         \u001b[0;32mif\u001b[0m \u001b[0;32mnot\u001b[0m \u001b[0mindexes\u001b[0m \u001b[0;32mand\u001b[0m \u001b[0;32mnot\u001b[0m \u001b[0mraw_lengths\u001b[0m\u001b[0;34m:\u001b[0m\u001b[0;34m\u001b[0m\u001b[0;34m\u001b[0m\u001b[0m\n\u001b[0;32m--> 391\u001b[0;31m             \u001b[0;32mraise\u001b[0m \u001b[0mValueError\u001b[0m\u001b[0;34m(\u001b[0m\u001b[0;34m\"If using all scalar values, you must pass an index\"\u001b[0m\u001b[0;34m)\u001b[0m\u001b[0;34m\u001b[0m\u001b[0;34m\u001b[0m\u001b[0m\n\u001b[0m\u001b[1;32m    392\u001b[0m \u001b[0;34m\u001b[0m\u001b[0m\n\u001b[1;32m    393\u001b[0m         \u001b[0;32mif\u001b[0m \u001b[0mhave_series\u001b[0m\u001b[0;34m:\u001b[0m\u001b[0;34m\u001b[0m\u001b[0;34m\u001b[0m\u001b[0m\n",
      "\u001b[0;31mValueError\u001b[0m: If using all scalar values, you must pass an index"
     ]
    }
   ],
   "source": [
    "dt_pred = model2.predict(testX_riser)\n",
    "df_pred = pd.DataFrame.from_dict(dict(zip(['p1', 'p2', 'p3', 'p4', 'p5', 'p6', 'p7','gas(m3/day)', 'liquid(m3/day)' ], dt_pred.T)))\n",
    "df_pred['ds'] = range(1560, 2001)"
   ]
  },
  {
   "cell_type": "code",
   "execution_count": null,
   "metadata": {},
   "outputs": [],
   "source": [
    "# dft = dft.reset_index()\n",
    "# larger tcn layer and larger FCN layer \n",
    "# larger training horizen \n",
    "fig,ax = plt.subplots()\n",
    "ax.plot(dfx['ds'], dfx['prediction'], marker=\".\", label='pred_data_gas_multi')\n",
    "ax.plot(dfx['ds'], dfx['real'], marker=\".\", label='real_data_gas')\n",
    "ax.legend()"
   ]
  },
  {
   "cell_type": "code",
   "execution_count": 436,
   "metadata": {},
   "outputs": [
    {
     "data": {
      "text/plain": [
       "<matplotlib.legend.Legend at 0x7fde769fc350>"
      ]
     },
     "execution_count": 436,
     "metadata": {},
     "output_type": "execute_result"
    },
    {
     "data": {
      "image/png": "[encoded data removed]",
      "text/plain": [
       "<Figure size 432x288 with 1 Axes>"
      ]
     },
     "metadata": {
      "needs_background": "light"
     },
     "output_type": "display_data"
    }
   ],
   "source": [
    "fig,ax = plt.subplots()\n",
    "ax.plot(dfx['ds'], dfx['prediction'], marker=\".\", label='pred_data_gas')\n",
    "ax.plot(dfx['ds'], dfx['real'], marker=\".\", label='real_data_gas')\n",
    "ax.legend()"
   ]
  },
  {
   "cell_type": "code",
   "execution_count": 446,
   "metadata": {},
   "outputs": [
    {
     "data": {
      "text/plain": [
       "<matplotlib.legend.Legend at 0x7fde8802d3d0>"
      ]
     },
     "execution_count": 446,
     "metadata": {},
     "output_type": "execute_result"
    },
    {
     "data": {
      "image/png": "[encoded data removed]",
      "text/plain": [
       "<Figure size 432x288 with 1 Axes>"
      ]
     },
     "metadata": {
      "needs_background": "light"
     },
     "output_type": "display_data"
    }
   ],
   "source": [
    "fig,ax = plt.subplots()\n",
    "ax.plot(dfx['ds'], dfx['prediction'], marker=\".\", label='pred_data_gas')\n",
    "ax.plot(dfx['ds'], dfx['real'], marker=\".\", label='real_data_gas')\n",
    "ax.legend()"
   ]
  },
  {
   "cell_type": "code",
   "execution_count": 482,
   "metadata": {},
   "outputs": [
    {
     "data": {
      "text/plain": [
       "<matplotlib.legend.Legend at 0x7fde368fb590>"
      ]
     },
     "execution_count": 482,
     "metadata": {},
     "output_type": "execute_result"
    },
    {
     "data": {
      "image/png": "[encoded data removed]",
      "text/plain": [
       "<Figure size 432x288 with 1 Axes>"
      ]
     },
     "metadata": {
      "needs_background": "light"
     },
     "output_type": "display_data"
    }
   ],
   "source": [
    "fig,ax = plt.subplots()\n",
    "ax.plot(dfx['ds'], dfx['prediction'], marker=\".\", label='pred_data_gas')\n",
    "ax.plot(dfx['ds'], dfx['real'], marker=\".\", label='real_data_gas')\n",
    "ax.legend()"
   ]
  },
  {
   "cell_type": "markdown",
   "metadata": {},
   "source": [
    "##### The well dataset "
   ]
  },
  {
   "cell_type": "code",
   "execution_count": 283,
   "metadata": {},
   "outputs": [],
   "source": [
    "def read_data(fname, plot_data = False):\n",
    "    # Read the time series\n",
    "    datats = read_csv(fname, header=0, dayfirst=True, parse_dates=[0], index_col=0, squeeze=True)  # , date_parser=parser\n",
    "\n",
    "    headers = list(datats.columns.values)\n",
    "    headers.insert(0, datats.index.name)\n",
    "\n",
    "    # Convert data to numpy array\n",
    "    data = datats.reset_index().values\n",
    "\n",
    "    # Split data into flow periods, and resample each flow period using a uniform timestep\n",
    "    dt = np.ediff1d(data[:, 0])\n",
    "    fpbreak = dttm.timedelta(hours=1)  # Minimal break between flow periods\n",
    "    dt = dt - fpbreak\n",
    "    ind = np.where(dt - fpbreak > pd.Timedelta(0))[0]\n",
    "    ind = np.r_[ind, len(data)-1]\n",
    "\n",
    "    Nfp = len(ind)  # Number of flow periods\n",
    "    fp = ['None'] * Nfp\n",
    "    n0 = 0\n",
    "    n1 = ind[0]+1\n",
    "    for n in range(Nfp):\n",
    "        # Resample each flow period separately\n",
    "        fpts = datats[n0:n1].resample('T').mean()\n",
    "        fpts = fpts.interpolate(method='linear')\n",
    "        # Save the resampled flow period to a list of numpy arrays\n",
    "        fp[n] = fpts.reset_index().values\n",
    "        #fp[n] = data[n0:n1,:]\n",
    "        n0 = n1\n",
    "        if n+1 < Nfp:\n",
    "            n1 = ind[n+1] + 1\n",
    "    # some outliers and spikes\n",
    "    for i in random.sample(range(1, 3000), 100):\n",
    "        data[i][1:] = random.sample(range(1, 3000), 5)\n",
    "\n",
    "    # Get the normalization parameters for all data\n",
    "    scaler = MinMaxScaler(feature_range=(0, 1))\n",
    "    scaler = scaler.fit(data[:,1:]) # Exclude Datetime from normalization\n",
    "\n",
    "    # Normalize every flow period\n",
    "    for n in range(Nfp):\n",
    "        fp[n][:,1:] = scaler.transform(fp[n][:,1:])\n",
    "\n",
    "    return fp, headers, scaler"
   ]
  },
  {
   "cell_type": "code",
   "execution_count": 272,
   "metadata": {},
   "outputs": [],
   "source": [
    "# some trials \n",
    "# os.chdir(\"/Users/ridhaalkhabaz/Documents/GitHub/DeepAR_Prophet_VFM\")\n",
    "# fp, headers = read_data('welltest.csv')\n",
    "# df = pd.DataFrame.from_dict(dict(zip(headers, fp[0].T)))\n",
    "# for i in [1,2,3, 4]:\n",
    "#     tmp = pd.DataFrame.from_dict(dict(zip(headers, fp[i].T)))\n",
    "#     df = pd.concat([df,tmp], axis=0)\n",
    "# df =  df.set_index('DateTime')"
   ]
  },
  {
   "cell_type": "code",
   "execution_count": 284,
   "metadata": {},
   "outputs": [],
   "source": [
    "os.chdir(\"/Users/ridhaalkhabaz/Documents/GitHub/DeepAR_Prophet_VFM\")\n",
    "fp, headers, scaler = read_data('welltest.csv')\n",
    "df = pd.DataFrame.from_dict(dict(zip(headers, fp[0].T)))\n",
    "for i in [1,2,3, 4]:\n",
    "    tmp = pd.DataFrame.from_dict(dict(zip(headers, fp[i].T)))\n",
    "    df = pd.concat([df,tmp], axis=0)\n",
    "df =  df.set_index('DateTime')\n",
    "## adding some gaussian noise \n",
    "mu, sigma = 0, 5e-4\n",
    "noise = np.random.normal(mu, sigma, df.shape)\n",
    "df = df + noise\n",
    "## removing some values \n",
    "df = df.reset_index()\n",
    "from random import randint\n",
    "index = [randint(0, len(df)) for i in range(100)]\n",
    "df.iloc[index,[1,2,3,4,5]] = 0"
   ]
  },
  {
   "cell_type": "code",
   "execution_count": 285,
   "metadata": {},
   "outputs": [
    {
     "data": {
      "image/png": "[encoded data removed]",
      "text/plain": [
       "<Figure size 432x288 with 1 Axes>"
      ]
     },
     "metadata": {
      "needs_background": "light"
     },
     "output_type": "display_data"
    }
   ],
   "source": [
    "fig,ax = plt.subplots()\n",
    "ax.plot(df['DateTime'], df['Qo (m3/day)'], marker=\".\", label='real_data_w_omission')\n",
    "ax.legend()\n",
    "df =  df.set_index('DateTime')"
   ]
  },
  {
   "cell_type": "code",
   "execution_count": 286,
   "metadata": {},
   "outputs": [],
   "source": [
    "def multivariate_data(tseries, start_index, end_index, history_size, forecast_horizon, step=1):\n",
    "    data = []\n",
    "    labels = []\n",
    "    for i in range(start_index, end_index -history_size +1):\n",
    "        end = i+history_size\n",
    "        data.append(tseries[i:end, :])\n",
    "        labels.append(tseries[end:end+1, :])\n",
    "\n",
    "    return np.asarray(data), np.asarray(labels)"
   ]
  },
  {
   "cell_type": "code",
   "execution_count": 287,
   "metadata": {},
   "outputs": [],
   "source": [
    "train = np.array(df.iloc[:int(len(df)*0.7)])\n",
    "test = np.array(df.iloc[int(len(df)*0.7):])"
   ]
  },
  {
   "cell_type": "code",
   "execution_count": 292,
   "metadata": {},
   "outputs": [],
   "source": [
    "FORECAST_HORIZON = 30 #secs \n",
    "PAST_HISTORY = 60\n",
    "BATCH_SIZE = 256\n",
    "BUFFER_SIZE = 10000\n",
    "EPOCHS = 100\n",
    "METRICS = ['mse']\n",
    "\n",
    "\n",
    "TCN_PARAM = {\n",
    "    'nb_filters': 128,\n",
    "    'kernel_size': 3,\n",
    "    'nb_stacks': 1,\n",
    "    'dilations': [1, 2, 4, 8, 16, 32, 64],\n",
    "    'dropout_rate': 0,\n",
    "    'lr':0.001\n",
    "}\n",
    "x_train, y_train = multivariate_data(train, 0, 2500, PAST_HISTORY, FORECAST_HORIZON, step=1)\n",
    "valX , valY = multivariate_data(train, 2500, 4000, PAST_HISTORY, FORECAST_HORIZON, step=1)\n",
    "testX, testY = multivariate_data(train, 4000, 5500, PAST_HISTORY, FORECAST_HORIZON, step=1)\n",
    "x_train = x_train.astype(np.float32)\n",
    "y_train = y_train.astype(np.float32)\n",
    "valX = valX.astype(np.float32)\n",
    "valY = valY.astype(np.float32)\n",
    "testX = testX.astype(np.float32)\n",
    "testY = testY.astype(np.float32)"
   ]
  },
  {
   "cell_type": "code",
   "execution_count": 293,
   "metadata": {},
   "outputs": [
    {
     "name": "stdout",
     "output_type": "stream",
     "text": [
      "Model: \"model_15\"\n",
      "_________________________________________________________________\n",
      "Layer (type)                 Output Shape              Param #   \n",
      "=================================================================\n",
      "input_16 (InputLayer)        [(None, 60, 5)]           0         \n",
      "_________________________________________________________________\n",
      "tcn_15 (TCN)                 (None, 128)               643456    \n",
      "_________________________________________________________________\n",
      "flatten_15 (Flatten)         (None, 128)               0         \n",
      "_________________________________________________________________\n",
      "dense_30 (Dense)             (None, 5)                 645       \n",
      "_________________________________________________________________\n",
      "dense_31 (Dense)             (None, 5)                 30        \n",
      "=================================================================\n",
      "Total params: 644,131\n",
      "Trainable params: 644,131\n",
      "Non-trainable params: 0\n",
      "_________________________________________________________________\n"
     ]
    }
   ],
   "source": [
    "mod = tcn(x_train.shape, 5, 'adam', 'mse', \n",
    "            nb_filters=TCN_PARAM['nb_filters'],\n",
    "            kernel_size=TCN_PARAM['kernel_size'],\n",
    "            nb_stacks= TCN_PARAM['nb_stacks'],\n",
    "            dilations=TCN_PARAM['dilations'],\n",
    "            dropout_rate=TCN_PARAM['dropout_rate'])\n",
    "mod.summary()"
   ]
  },
  {
   "cell_type": "code",
   "execution_count": 294,
   "metadata": {},
   "outputs": [],
   "source": [
    "traindt = tf.data.Dataset.from_tensor_slices((x_train, y_train)).cache().shuffle(BUFFER_SIZE).batch(BATCH_SIZE).repeat()\n",
    "valdt = tf.data.Dataset.from_tensor_slices((valX, valY)).batch(BATCH_SIZE).repeat()\n"
   ]
  },
  {
   "cell_type": "code",
   "execution_count": 295,
   "metadata": {},
   "outputs": [
    {
     "name": "stdout",
     "output_type": "stream",
     "text": [
      "Epoch 1/100\n",
      "10/10 [==============================] - 14s 1s/step - loss: 8343.1701 - val_loss: 1175.0396\n",
      "Epoch 2/100\n",
      "10/10 [==============================] - 12s 1s/step - loss: 270.9399 - val_loss: 151.2963\n",
      "Epoch 3/100\n",
      "10/10 [==============================] - 12s 1s/step - loss: 71.9882 - val_loss: 60.1370\n",
      "Epoch 4/100\n",
      "10/10 [==============================] - 12s 1s/step - loss: 24.4429 - val_loss: 25.0226\n",
      "Epoch 5/100\n",
      "10/10 [==============================] - 12s 1s/step - loss: 10.2314 - val_loss: 7.8338\n",
      "Epoch 6/100\n",
      "10/10 [==============================] - 12s 1s/step - loss: 3.6420 - val_loss: 2.8318\n",
      "Epoch 7/100\n",
      "10/10 [==============================] - 12s 1s/step - loss: 1.6087 - val_loss: 2.7531\n",
      "Epoch 8/100\n",
      "10/10 [==============================] - 12s 1s/step - loss: 1.1930 - val_loss: 2.8017\n",
      "Epoch 9/100\n",
      "10/10 [==============================] - 12s 1s/step - loss: 1.1176 - val_loss: 2.3429\n",
      "Epoch 10/100\n",
      "10/10 [==============================] - 12s 1s/step - loss: 1.0272 - val_loss: 2.2540\n",
      "Epoch 11/100\n",
      "10/10 [==============================] - 12s 1s/step - loss: 0.9733 - val_loss: 2.0817\n",
      "Epoch 12/100\n",
      "10/10 [==============================] - 12s 1s/step - loss: 0.9192 - val_loss: 1.9804\n",
      "Epoch 13/100\n",
      "10/10 [==============================] - 12s 1s/step - loss: 0.8182 - val_loss: 1.8847\n",
      "Epoch 14/100\n",
      "10/10 [==============================] - 12s 1s/step - loss: 0.8046 - val_loss: 1.7892\n",
      "Epoch 15/100\n",
      "10/10 [==============================] - 12s 1s/step - loss: 0.7594 - val_loss: 1.7079\n",
      "Epoch 16/100\n",
      "10/10 [==============================] - 12s 1s/step - loss: 0.7066 - val_loss: 1.6149\n",
      "Epoch 17/100\n",
      "10/10 [==============================] - 12s 1s/step - loss: 0.6743 - val_loss: 1.5551\n",
      "Epoch 18/100\n",
      "10/10 [==============================] - 12s 1s/step - loss: 0.6692 - val_loss: 1.4697\n",
      "Epoch 19/100\n",
      "10/10 [==============================] - 12s 1s/step - loss: 0.6142 - val_loss: 1.4045\n",
      "Epoch 20/100\n",
      "10/10 [==============================] - 13s 1s/step - loss: 0.6002 - val_loss: 1.3475\n",
      "Epoch 21/100\n",
      "10/10 [==============================] - 12s 1s/step - loss: 0.5695 - val_loss: 1.2880\n",
      "Epoch 22/100\n",
      "10/10 [==============================] - 12s 1s/step - loss: 0.5085 - val_loss: 1.2409\n",
      "Epoch 23/100\n",
      "10/10 [==============================] - 13s 1s/step - loss: 0.5178 - val_loss: 1.1714\n",
      "Epoch 24/100\n",
      "10/10 [==============================] - 12s 1s/step - loss: 0.4945 - val_loss: 1.1283\n",
      "Epoch 25/100\n",
      "10/10 [==============================] - 12s 1s/step - loss: 0.4640 - val_loss: 1.0833\n",
      "Epoch 26/100\n",
      "10/10 [==============================] - 12s 1s/step - loss: 0.4529 - val_loss: 1.0529\n",
      "Epoch 27/100\n",
      "10/10 [==============================] - 12s 1s/step - loss: 0.4449 - val_loss: 1.0018\n",
      "Epoch 28/100\n",
      "10/10 [==============================] - 12s 1s/step - loss: 0.4184 - val_loss: 0.9574\n",
      "Epoch 29/100\n",
      "10/10 [==============================] - 12s 1s/step - loss: 0.3894 - val_loss: 0.9292\n",
      "Epoch 30/100\n",
      "10/10 [==============================] - 12s 1s/step - loss: 0.3914 - val_loss: 0.8912\n",
      "Epoch 31/100\n",
      "10/10 [==============================] - 12s 1s/step - loss: 0.3928 - val_loss: 0.8613\n",
      "Epoch 32/100\n",
      "10/10 [==============================] - 12s 1s/step - loss: 0.3668 - val_loss: 0.8249\n",
      "Epoch 33/100\n",
      "10/10 [==============================] - 12s 1s/step - loss: 0.3552 - val_loss: 0.7974\n",
      "Epoch 34/100\n",
      "10/10 [==============================] - 12s 1s/step - loss: 0.3338 - val_loss: 0.7724\n",
      "Epoch 35/100\n",
      "10/10 [==============================] - 12s 1s/step - loss: 0.3227 - val_loss: 0.7454\n",
      "Epoch 36/100\n",
      "10/10 [==============================] - 12s 1s/step - loss: 0.3127 - val_loss: 0.7071\n",
      "Epoch 37/100\n",
      "10/10 [==============================] - 12s 1s/step - loss: 0.2912 - val_loss: 0.6913\n",
      "Epoch 38/100\n",
      "10/10 [==============================] - 12s 1s/step - loss: 0.2900 - val_loss: 0.6614\n",
      "Epoch 39/100\n",
      "10/10 [==============================] - 12s 1s/step - loss: 0.2809 - val_loss: 0.6452\n",
      "Epoch 40/100\n",
      "10/10 [==============================] - 12s 1s/step - loss: 0.2716 - val_loss: 0.6175\n",
      "Epoch 41/100\n",
      "10/10 [==============================] - 12s 1s/step - loss: 0.2535 - val_loss: 0.5990\n",
      "Epoch 42/100\n",
      "10/10 [==============================] - 13s 1s/step - loss: 0.2562 - val_loss: 0.5805\n",
      "Epoch 43/100\n",
      "10/10 [==============================] - 12s 1s/step - loss: 0.2417 - val_loss: 0.5591\n",
      "Epoch 44/100\n",
      "10/10 [==============================] - 12s 1s/step - loss: 0.2404 - val_loss: 0.5433\n",
      "Epoch 45/100\n",
      "10/10 [==============================] - 12s 1s/step - loss: 0.2341 - val_loss: 0.5247\n",
      "Epoch 46/100\n",
      "10/10 [==============================] - 12s 1s/step - loss: 0.2257 - val_loss: 0.5079\n",
      "Epoch 47/100\n",
      "10/10 [==============================] - 12s 1s/step - loss: 0.2206 - val_loss: 0.4945\n",
      "Epoch 48/100\n",
      "10/10 [==============================] - 12s 1s/step - loss: 0.2153 - val_loss: 0.4778\n",
      "Epoch 49/100\n",
      "10/10 [==============================] - 12s 1s/step - loss: 0.2008 - val_loss: 0.4623\n",
      "Epoch 50/100\n",
      "10/10 [==============================] - 12s 1s/step - loss: 0.1899 - val_loss: 0.4567\n",
      "Epoch 51/100\n",
      "10/10 [==============================] - 12s 1s/step - loss: 0.1832 - val_loss: 0.4363\n",
      "Epoch 52/100\n",
      "10/10 [==============================] - 12s 1s/step - loss: 0.1888 - val_loss: 0.4265\n",
      "Epoch 53/100\n",
      "10/10 [==============================] - 12s 1s/step - loss: 0.1764 - val_loss: 0.4120\n",
      "Epoch 54/100\n",
      "10/10 [==============================] - 12s 1s/step - loss: 0.1737 - val_loss: 0.4012\n",
      "Epoch 55/100\n",
      "10/10 [==============================] - 12s 1s/step - loss: 0.1718 - val_loss: 0.3932\n",
      "Epoch 56/100\n",
      "10/10 [==============================] - 12s 1s/step - loss: 0.1656 - val_loss: 0.3784\n",
      "Epoch 57/100\n",
      "10/10 [==============================] - 12s 1s/step - loss: 0.1590 - val_loss: 0.3712\n",
      "Epoch 58/100\n",
      "10/10 [==============================] - 12s 1s/step - loss: 0.1541 - val_loss: 0.3616\n",
      "Epoch 59/100\n",
      "10/10 [==============================] - 12s 1s/step - loss: 0.1498 - val_loss: 0.3483\n",
      "Epoch 60/100\n",
      "10/10 [==============================] - 12s 1s/step - loss: 0.1488 - val_loss: 0.3418\n",
      "Epoch 61/100\n",
      "10/10 [==============================] - 12s 1s/step - loss: 0.1483 - val_loss: 0.3315\n",
      "Epoch 62/100\n",
      "10/10 [==============================] - 12s 1s/step - loss: 0.1449 - val_loss: 0.3246\n",
      "Epoch 63/100\n",
      "10/10 [==============================] - 12s 1s/step - loss: 0.1367 - val_loss: 0.3141\n",
      "Epoch 64/100\n",
      "10/10 [==============================] - 12s 1s/step - loss: 0.1273 - val_loss: 0.3100\n",
      "Epoch 65/100\n",
      "10/10 [==============================] - 12s 1s/step - loss: 0.1300 - val_loss: 0.3034\n",
      "Epoch 66/100\n",
      "10/10 [==============================] - 12s 1s/step - loss: 0.1239 - val_loss: 0.2955\n",
      "Epoch 67/100\n",
      "10/10 [==============================] - 12s 1s/step - loss: 0.1201 - val_loss: 0.2881\n",
      "Epoch 68/100\n",
      "10/10 [==============================] - 12s 1s/step - loss: 0.1223 - val_loss: 0.2809\n",
      "Epoch 69/100\n",
      "10/10 [==============================] - 12s 1s/step - loss: 0.1173 - val_loss: 0.2715\n",
      "Epoch 70/100\n",
      "10/10 [==============================] - 12s 1s/step - loss: 0.1166 - val_loss: 0.2650\n",
      "Epoch 71/100\n",
      "10/10 [==============================] - 12s 1s/step - loss: 0.1147 - val_loss: 0.2584\n",
      "Epoch 72/100\n",
      "10/10 [==============================] - 12s 1s/step - loss: 0.1122 - val_loss: 0.2572\n",
      "Epoch 73/100\n",
      "10/10 [==============================] - 12s 1s/step - loss: 0.1069 - val_loss: 0.2486\n",
      "Epoch 74/100\n",
      "10/10 [==============================] - 12s 1s/step - loss: 0.1079 - val_loss: 0.2435\n",
      "Epoch 75/100\n",
      "10/10 [==============================] - 12s 1s/step - loss: 0.1067 - val_loss: 0.2393\n",
      "Epoch 76/100\n",
      "10/10 [==============================] - 12s 1s/step - loss: 0.1038 - val_loss: 0.2331\n",
      "Epoch 77/100\n",
      "10/10 [==============================] - 12s 1s/step - loss: 0.1009 - val_loss: 0.2245\n",
      "Epoch 78/100\n",
      "10/10 [==============================] - 12s 1s/step - loss: 0.1000 - val_loss: 0.2209\n",
      "Epoch 79/100\n",
      "10/10 [==============================] - 12s 1s/step - loss: 0.0932 - val_loss: 0.2156\n",
      "Epoch 80/100\n",
      "10/10 [==============================] - 14s 1s/step - loss: 0.0926 - val_loss: 0.2137\n",
      "Epoch 81/100\n",
      "10/10 [==============================] - 15s 1s/step - loss: 0.0899 - val_loss: 0.2057\n",
      "Epoch 82/100\n",
      "10/10 [==============================] - 12s 1s/step - loss: 0.0900 - val_loss: 0.2036\n"
     ]
    },
    {
     "name": "stdout",
     "output_type": "stream",
     "text": [
      "Epoch 83/100\n",
      "10/10 [==============================] - 12s 1s/step - loss: 0.0868 - val_loss: 0.2000\n",
      "Epoch 84/100\n",
      "10/10 [==============================] - 12s 1s/step - loss: 0.0871 - val_loss: 0.1943\n",
      "Epoch 85/100\n",
      "10/10 [==============================] - 12s 1s/step - loss: 0.0841 - val_loss: 0.1904\n",
      "Epoch 86/100\n",
      "10/10 [==============================] - 12s 1s/step - loss: 0.0824 - val_loss: 0.1876\n",
      "Epoch 87/100\n",
      "10/10 [==============================] - 13s 1s/step - loss: 0.0791 - val_loss: 0.1810\n",
      "Epoch 88/100\n",
      "10/10 [==============================] - 12s 1s/step - loss: 0.0770 - val_loss: 0.1785\n",
      "Epoch 89/100\n",
      "10/10 [==============================] - 12s 1s/step - loss: 0.0804 - val_loss: 0.1767\n",
      "Epoch 90/100\n",
      "10/10 [==============================] - 12s 1s/step - loss: 0.0765 - val_loss: 0.1708\n",
      "Epoch 91/100\n",
      "10/10 [==============================] - 12s 1s/step - loss: 0.0758 - val_loss: 0.1726\n",
      "Epoch 92/100\n",
      "10/10 [==============================] - 12s 1s/step - loss: 0.0760 - val_loss: 0.1627\n",
      "Epoch 93/100\n",
      "10/10 [==============================] - 12s 1s/step - loss: 0.0752 - val_loss: 0.1618\n",
      "Epoch 94/100\n",
      "10/10 [==============================] - 12s 1s/step - loss: 0.0717 - val_loss: 0.1596\n",
      "Epoch 95/100\n",
      "10/10 [==============================] - 12s 1s/step - loss: 0.0681 - val_loss: 0.1531\n",
      "Epoch 96/100\n",
      "10/10 [==============================] - 12s 1s/step - loss: 0.0711 - val_loss: 0.1547\n",
      "Epoch 97/100\n",
      "10/10 [==============================] - 12s 1s/step - loss: 0.0660 - val_loss: 0.1479\n",
      "Epoch 98/100\n",
      "10/10 [==============================] - 12s 1s/step - loss: 0.0639 - val_loss: 0.1485\n",
      "Epoch 99/100\n",
      "10/10 [==============================] - 12s 1s/step - loss: 0.0649 - val_loss: 0.1424\n",
      "Epoch 100/100\n",
      "10/10 [==============================] - 12s 1s/step - loss: 0.0647 - val_loss: 0.1418\n"
     ]
    },
    {
     "data": {
      "text/plain": [
       "<tensorflow.python.keras.callbacks.History at 0x7fde8f938590>"
      ]
     },
     "execution_count": 295,
     "metadata": {},
     "output_type": "execute_result"
    }
   ],
   "source": [
    "evaluationInterval = int(np.ceil(x_train.shape[0] / BATCH_SIZE))\n",
    "mod.fit(traindt, epochs=EPOCHS, steps_per_epoch=evaluationInterval, validation_data=valdt, validation_steps=evaluationInterval)"
   ]
  },
  {
   "cell_type": "code",
   "execution_count": 296,
   "metadata": {},
   "outputs": [
    {
     "data": {
      "text/plain": [
       "0.1563769"
      ]
     },
     "execution_count": 296,
     "metadata": {},
     "output_type": "execute_result"
    }
   ],
   "source": [
    "mean_squared_error(mod.predict(testX).flatten(), testY.flatten())"
   ]
  },
  {
   "cell_type": "code",
   "execution_count": 256,
   "metadata": {},
   "outputs": [
    {
     "data": {
      "text/plain": [
       "array([[1.0535014e+02, 4.6515411e+01, 1.6192332e+02, 7.8471513e+00,\n",
       "        6.3507169e+05],\n",
       "       [1.0510802e+02, 4.7306973e+01, 1.6340407e+02, 7.7131171e+00,\n",
       "        6.3530950e+05],\n",
       "       [1.0677398e+02, 4.4357563e+01, 1.5147099e+02, 8.8440418e+00,\n",
       "        6.4168975e+05],\n",
       "       ...,\n",
       "       [1.0573511e+02, 5.0959854e+01, 1.6047675e+02, 1.1800814e+01,\n",
       "        6.7132144e+05],\n",
       "       [1.0715128e+02, 5.1332207e+01, 1.5103326e+02, 1.1924137e+01,\n",
       "        6.7527044e+05],\n",
       "       [1.0554124e+02, 4.8362049e+01, 1.6077882e+02, 7.0849857e+00,\n",
       "        6.7198919e+05]], dtype=float32)"
      ]
     },
     "execution_count": 256,
     "metadata": {},
     "output_type": "execute_result"
    }
   ],
   "source": [
    "scaler.inverse_transform(testY.reshape((1441, 5)))"
   ]
  },
  {
   "cell_type": "code",
   "execution_count": 297,
   "metadata": {},
   "outputs": [
    {
     "data": {
      "text/html": [
       "<div>\n",
       "<style scoped>\n",
       "    .dataframe tbody tr th:only-of-type {\n",
       "        vertical-align: middle;\n",
       "    }\n",
       "\n",
       "    .dataframe tbody tr th {\n",
       "        vertical-align: top;\n",
       "    }\n",
       "\n",
       "    .dataframe thead th {\n",
       "        text-align: right;\n",
       "    }\n",
       "</style>\n",
       "<table border=\"1\" class=\"dataframe\">\n",
       "  <thead>\n",
       "    <tr style=\"text-align: right;\">\n",
       "      <th></th>\n",
       "      <th>Pressure (bar)</th>\n",
       "      <th>Temperature (degC)</th>\n",
       "      <th>Qo (m3/day)</th>\n",
       "      <th>Qw (m3/day)</th>\n",
       "      <th>Qg (m3/day)</th>\n",
       "    </tr>\n",
       "    <tr>\n",
       "      <th>DateTime</th>\n",
       "      <th></th>\n",
       "      <th></th>\n",
       "      <th></th>\n",
       "      <th></th>\n",
       "      <th></th>\n",
       "    </tr>\n",
       "  </thead>\n",
       "  <tbody>\n",
       "    <tr>\n",
       "      <th>2016-01-10 17:24:00</th>\n",
       "      <td>105.579935</td>\n",
       "      <td>45.509997</td>\n",
       "      <td>165.056745</td>\n",
       "      <td>8.558246</td>\n",
       "      <td>635140.0802</td>\n",
       "    </tr>\n",
       "    <tr>\n",
       "      <th>2016-01-10 17:25:00</th>\n",
       "      <td>105.005054</td>\n",
       "      <td>46.168698</td>\n",
       "      <td>155.95656</td>\n",
       "      <td>7.937328</td>\n",
       "      <td>640229.8728</td>\n",
       "    </tr>\n",
       "    <tr>\n",
       "      <th>2016-01-10 17:26:00</th>\n",
       "      <td>105.044443</td>\n",
       "      <td>45.643879</td>\n",
       "      <td>167.214961</td>\n",
       "      <td>8.093444</td>\n",
       "      <td>634300.4434</td>\n",
       "    </tr>\n",
       "    <tr>\n",
       "      <th>2016-01-10 17:27:00</th>\n",
       "      <td>105.162395</td>\n",
       "      <td>45.449422</td>\n",
       "      <td>171.494107</td>\n",
       "      <td>8.751078</td>\n",
       "      <td>632200.1964</td>\n",
       "    </tr>\n",
       "    <tr>\n",
       "      <th>2016-01-10 17:28:00</th>\n",
       "      <td>104.66845</td>\n",
       "      <td>46.295829</td>\n",
       "      <td>169.9894</td>\n",
       "      <td>8.631732</td>\n",
       "      <td>632509.5771</td>\n",
       "    </tr>\n",
       "    <tr>\n",
       "      <th>...</th>\n",
       "      <td>...</td>\n",
       "      <td>...</td>\n",
       "      <td>...</td>\n",
       "      <td>...</td>\n",
       "      <td>...</td>\n",
       "    </tr>\n",
       "    <tr>\n",
       "      <th>2016-01-14 15:53:00</th>\n",
       "      <td>103.495278</td>\n",
       "      <td>44.544447</td>\n",
       "      <td>133.559008</td>\n",
       "      <td>6.193034</td>\n",
       "      <td>547369.7314</td>\n",
       "    </tr>\n",
       "    <tr>\n",
       "      <th>2016-01-14 15:54:00</th>\n",
       "      <td>103.117811</td>\n",
       "      <td>44.657796</td>\n",
       "      <td>132.912958</td>\n",
       "      <td>6.100417</td>\n",
       "      <td>548060.0912</td>\n",
       "    </tr>\n",
       "    <tr>\n",
       "      <th>2016-01-14 15:55:00</th>\n",
       "      <td>102.913494</td>\n",
       "      <td>44.199496</td>\n",
       "      <td>144.886085</td>\n",
       "      <td>6.66888</td>\n",
       "      <td>542190.24</td>\n",
       "    </tr>\n",
       "    <tr>\n",
       "      <th>2016-01-14 15:56:00</th>\n",
       "      <td>103.354997</td>\n",
       "      <td>43.968284</td>\n",
       "      <td>143.57254</td>\n",
       "      <td>6.519243</td>\n",
       "      <td>542740.3713</td>\n",
       "    </tr>\n",
       "    <tr>\n",
       "      <th>2016-01-14 15:57:00</th>\n",
       "      <td>102.670352</td>\n",
       "      <td>44.006255</td>\n",
       "      <td>137.961371</td>\n",
       "      <td>5.948941</td>\n",
       "      <td>545069.7929</td>\n",
       "    </tr>\n",
       "  </tbody>\n",
       "</table>\n",
       "<p>3890 rows × 5 columns</p>\n",
       "</div>"
      ],
      "text/plain": [
       "                    Pressure (bar) Temperature (degC) Qo (m3/day) Qw (m3/day)  \\\n",
       "DateTime                                                                        \n",
       "2016-01-10 17:24:00     105.579935          45.509997  165.056745    8.558246   \n",
       "2016-01-10 17:25:00     105.005054          46.168698   155.95656    7.937328   \n",
       "2016-01-10 17:26:00     105.044443          45.643879  167.214961    8.093444   \n",
       "2016-01-10 17:27:00     105.162395          45.449422  171.494107    8.751078   \n",
       "2016-01-10 17:28:00      104.66845          46.295829    169.9894    8.631732   \n",
       "...                            ...                ...         ...         ...   \n",
       "2016-01-14 15:53:00     103.495278          44.544447  133.559008    6.193034   \n",
       "2016-01-14 15:54:00     103.117811          44.657796  132.912958    6.100417   \n",
       "2016-01-14 15:55:00     102.913494          44.199496  144.886085     6.66888   \n",
       "2016-01-14 15:56:00     103.354997          43.968284   143.57254    6.519243   \n",
       "2016-01-14 15:57:00     102.670352          44.006255  137.961371    5.948941   \n",
       "\n",
       "                     Qg (m3/day)  \n",
       "DateTime                          \n",
       "2016-01-10 17:24:00  635140.0802  \n",
       "2016-01-10 17:25:00  640229.8728  \n",
       "2016-01-10 17:26:00  634300.4434  \n",
       "2016-01-10 17:27:00  632200.1964  \n",
       "2016-01-10 17:28:00  632509.5771  \n",
       "...                          ...  \n",
       "2016-01-14 15:53:00  547369.7314  \n",
       "2016-01-14 15:54:00  548060.0912  \n",
       "2016-01-14 15:55:00    542190.24  \n",
       "2016-01-14 15:56:00  542740.3713  \n",
       "2016-01-14 15:57:00  545069.7929  \n",
       "\n",
       "[3890 rows x 5 columns]"
      ]
     },
     "execution_count": 297,
     "metadata": {},
     "output_type": "execute_result"
    }
   ],
   "source": [
    "dfy.iloc[4043:]"
   ]
  },
  {
   "cell_type": "code",
   "execution_count": 298,
   "metadata": {},
   "outputs": [
    {
     "data": {
      "text/html": [
       "<div>\n",
       "<style scoped>\n",
       "    .dataframe tbody tr th:only-of-type {\n",
       "        vertical-align: middle;\n",
       "    }\n",
       "\n",
       "    .dataframe tbody tr th {\n",
       "        vertical-align: top;\n",
       "    }\n",
       "\n",
       "    .dataframe thead th {\n",
       "        text-align: right;\n",
       "    }\n",
       "</style>\n",
       "<table border=\"1\" class=\"dataframe\">\n",
       "  <thead>\n",
       "    <tr style=\"text-align: right;\">\n",
       "      <th></th>\n",
       "      <th>index</th>\n",
       "      <th>p</th>\n",
       "      <th>t</th>\n",
       "      <th>Qo</th>\n",
       "      <th>Qw</th>\n",
       "      <th>Qg</th>\n",
       "    </tr>\n",
       "  </thead>\n",
       "  <tbody>\n",
       "    <tr>\n",
       "      <th>0</th>\n",
       "      <td>0</td>\n",
       "      <td>0.033541</td>\n",
       "      <td>0.015284</td>\n",
       "      <td>0.038531</td>\n",
       "      <td>0.003224</td>\n",
       "      <td>0.706637</td>\n",
       "    </tr>\n",
       "    <tr>\n",
       "      <th>1</th>\n",
       "      <td>1</td>\n",
       "      <td>0.033874</td>\n",
       "      <td>0.015858</td>\n",
       "      <td>0.039260</td>\n",
       "      <td>0.003185</td>\n",
       "      <td>0.705905</td>\n",
       "    </tr>\n",
       "    <tr>\n",
       "      <th>2</th>\n",
       "      <td>2</td>\n",
       "      <td>0.034462</td>\n",
       "      <td>0.016034</td>\n",
       "      <td>0.035879</td>\n",
       "      <td>0.003405</td>\n",
       "      <td>0.712783</td>\n",
       "    </tr>\n",
       "    <tr>\n",
       "      <th>3</th>\n",
       "      <td>3</td>\n",
       "      <td>0.033847</td>\n",
       "      <td>0.015229</td>\n",
       "      <td>0.039071</td>\n",
       "      <td>0.003283</td>\n",
       "      <td>0.707581</td>\n",
       "    </tr>\n",
       "    <tr>\n",
       "      <th>4</th>\n",
       "      <td>4</td>\n",
       "      <td>0.033756</td>\n",
       "      <td>0.015914</td>\n",
       "      <td>0.036897</td>\n",
       "      <td>0.002587</td>\n",
       "      <td>0.710361</td>\n",
       "    </tr>\n",
       "    <tr>\n",
       "      <th>...</th>\n",
       "      <td>...</td>\n",
       "      <td>...</td>\n",
       "      <td>...</td>\n",
       "      <td>...</td>\n",
       "      <td>...</td>\n",
       "      <td>...</td>\n",
       "    </tr>\n",
       "    <tr>\n",
       "      <th>1436</th>\n",
       "      <td>1436</td>\n",
       "      <td>0.033721</td>\n",
       "      <td>0.015841</td>\n",
       "      <td>0.036277</td>\n",
       "      <td>0.003478</td>\n",
       "      <td>0.749078</td>\n",
       "    </tr>\n",
       "    <tr>\n",
       "      <th>1437</th>\n",
       "      <td>1437</td>\n",
       "      <td>0.034565</td>\n",
       "      <td>0.016092</td>\n",
       "      <td>0.039270</td>\n",
       "      <td>0.004797</td>\n",
       "      <td>0.743222</td>\n",
       "    </tr>\n",
       "    <tr>\n",
       "      <th>1438</th>\n",
       "      <td>1438</td>\n",
       "      <td>0.034656</td>\n",
       "      <td>0.015018</td>\n",
       "      <td>0.038172</td>\n",
       "      <td>0.003343</td>\n",
       "      <td>0.748008</td>\n",
       "    </tr>\n",
       "    <tr>\n",
       "      <th>1439</th>\n",
       "      <td>1439</td>\n",
       "      <td>0.034251</td>\n",
       "      <td>0.016755</td>\n",
       "      <td>0.035976</td>\n",
       "      <td>0.002418</td>\n",
       "      <td>0.753554</td>\n",
       "    </tr>\n",
       "    <tr>\n",
       "      <th>1440</th>\n",
       "      <td>1440</td>\n",
       "      <td>0.035401</td>\n",
       "      <td>0.016507</td>\n",
       "      <td>0.037626</td>\n",
       "      <td>0.002932</td>\n",
       "      <td>0.748231</td>\n",
       "    </tr>\n",
       "  </tbody>\n",
       "</table>\n",
       "<p>1441 rows × 6 columns</p>\n",
       "</div>"
      ],
      "text/plain": [
       "      index         p         t        Qo        Qw        Qg\n",
       "0         0  0.033541  0.015284  0.038531  0.003224  0.706637\n",
       "1         1  0.033874  0.015858  0.039260  0.003185  0.705905\n",
       "2         2  0.034462  0.016034  0.035879  0.003405  0.712783\n",
       "3         3  0.033847  0.015229  0.039071  0.003283  0.707581\n",
       "4         4  0.033756  0.015914  0.036897  0.002587  0.710361\n",
       "...     ...       ...       ...       ...       ...       ...\n",
       "1436   1436  0.033721  0.015841  0.036277  0.003478  0.749078\n",
       "1437   1437  0.034565  0.016092  0.039270  0.004797  0.743222\n",
       "1438   1438  0.034656  0.015018  0.038172  0.003343  0.748008\n",
       "1439   1439  0.034251  0.016755  0.035976  0.002418  0.753554\n",
       "1440   1440  0.035401  0.016507  0.037626  0.002932  0.748231\n",
       "\n",
       "[1441 rows x 6 columns]"
      ]
     },
     "execution_count": 298,
     "metadata": {},
     "output_type": "execute_result"
    }
   ],
   "source": [
    "dfReal = pd.DataFrame.from_dict(dict(zip(['p', 't', 'Qo', 'Qw', 'Qg' ],testY.reshape((1441, 5)).T)))\n",
    "dfReal = dfReal. reset_index()\n",
    "dfReal"
   ]
  },
  {
   "cell_type": "code",
   "execution_count": 299,
   "metadata": {},
   "outputs": [],
   "source": [
    "pred_dt = mod.predict(testX)\n",
    "dfPred = pd.DataFrame.from_dict(dict(zip(['p', 't', 'Qo', 'Qw', 'Qg' ], pred_dt.T)))\n",
    "dfPred = dfPred.reset_index()"
   ]
  },
  {
   "cell_type": "code",
   "execution_count": 311,
   "metadata": {},
   "outputs": [
    {
     "data": {
      "text/plain": [
       "<matplotlib.legend.Legend at 0x7fde769f1750>"
      ]
     },
     "execution_count": 311,
     "metadata": {},
     "output_type": "execute_result"
    },
    {
     "data": {
      "image/png": "[encoded data removed]",
      "text/plain": [
       "<Figure size 432x288 with 1 Axes>"
      ]
     },
     "metadata": {
      "needs_background": "light"
     },
     "output_type": "display_data"
    }
   ],
   "source": [
    "fig,ax = plt.subplots()\n",
    "# ax.plot(dfReal['index'], dfReal['Qo'], marker=\".\", label='real_data_oil')\n",
    "# ax.plot(dfPred['index'], dfPred['Qo'], marker=\".\", label='prediction_oil')\n",
    "ax.plot(dfReal['index'].iloc[:300], dfReal['Qw'].iloc[:300], marker=\".\", label='real_data_water')\n",
    "ax.plot(dfPred['index'].iloc[:300], dfPred['Qw'].iloc[:300], marker=\".\", label='prediction_water')\n",
    "# ax.plot(dfReal['index'], dfReal['Qg'], marker=\".\", label='real_data_gas')\n",
    "# ax.plot(dfPred['index'], dfPred['Qg'], marker=\".\", label='prediction_gas')\n",
    "ax.legend()"
   ]
  },
  {
   "cell_type": "code",
   "execution_count": 306,
   "metadata": {},
   "outputs": [
    {
     "data": {
      "text/plain": [
       "0.18745637"
      ]
     },
     "execution_count": 306,
     "metadata": {},
     "output_type": "execute_result"
    }
   ],
   "source": [
    "mean_squared_error(dfReal.iloc[:, 3:6], dfPred.iloc[:, 3:6])"
   ]
  },
  {
   "cell_type": "code",
   "execution_count": 305,
   "metadata": {},
   "outputs": [
    {
     "data": {
      "text/html": [
       "<div>\n",
       "<style scoped>\n",
       "    .dataframe tbody tr th:only-of-type {\n",
       "        vertical-align: middle;\n",
       "    }\n",
       "\n",
       "    .dataframe tbody tr th {\n",
       "        vertical-align: top;\n",
       "    }\n",
       "\n",
       "    .dataframe thead th {\n",
       "        text-align: right;\n",
       "    }\n",
       "</style>\n",
       "<table border=\"1\" class=\"dataframe\">\n",
       "  <thead>\n",
       "    <tr style=\"text-align: right;\">\n",
       "      <th></th>\n",
       "      <th>Qo</th>\n",
       "      <th>Qw</th>\n",
       "      <th>Qg</th>\n",
       "    </tr>\n",
       "  </thead>\n",
       "  <tbody>\n",
       "    <tr>\n",
       "      <th>0</th>\n",
       "      <td>0.038531</td>\n",
       "      <td>0.003224</td>\n",
       "      <td>0.706637</td>\n",
       "    </tr>\n",
       "    <tr>\n",
       "      <th>1</th>\n",
       "      <td>0.039260</td>\n",
       "      <td>0.003185</td>\n",
       "      <td>0.705905</td>\n",
       "    </tr>\n",
       "    <tr>\n",
       "      <th>2</th>\n",
       "      <td>0.035879</td>\n",
       "      <td>0.003405</td>\n",
       "      <td>0.712783</td>\n",
       "    </tr>\n",
       "    <tr>\n",
       "      <th>3</th>\n",
       "      <td>0.039071</td>\n",
       "      <td>0.003283</td>\n",
       "      <td>0.707581</td>\n",
       "    </tr>\n",
       "    <tr>\n",
       "      <th>4</th>\n",
       "      <td>0.036897</td>\n",
       "      <td>0.002587</td>\n",
       "      <td>0.710361</td>\n",
       "    </tr>\n",
       "    <tr>\n",
       "      <th>...</th>\n",
       "      <td>...</td>\n",
       "      <td>...</td>\n",
       "      <td>...</td>\n",
       "    </tr>\n",
       "    <tr>\n",
       "      <th>1436</th>\n",
       "      <td>0.036277</td>\n",
       "      <td>0.003478</td>\n",
       "      <td>0.749078</td>\n",
       "    </tr>\n",
       "    <tr>\n",
       "      <th>1437</th>\n",
       "      <td>0.039270</td>\n",
       "      <td>0.004797</td>\n",
       "      <td>0.743222</td>\n",
       "    </tr>\n",
       "    <tr>\n",
       "      <th>1438</th>\n",
       "      <td>0.038172</td>\n",
       "      <td>0.003343</td>\n",
       "      <td>0.748008</td>\n",
       "    </tr>\n",
       "    <tr>\n",
       "      <th>1439</th>\n",
       "      <td>0.035976</td>\n",
       "      <td>0.002418</td>\n",
       "      <td>0.753554</td>\n",
       "    </tr>\n",
       "    <tr>\n",
       "      <th>1440</th>\n",
       "      <td>0.037626</td>\n",
       "      <td>0.002932</td>\n",
       "      <td>0.748231</td>\n",
       "    </tr>\n",
       "  </tbody>\n",
       "</table>\n",
       "<p>1441 rows × 3 columns</p>\n",
       "</div>"
      ],
      "text/plain": [
       "            Qo        Qw        Qg\n",
       "0     0.038531  0.003224  0.706637\n",
       "1     0.039260  0.003185  0.705905\n",
       "2     0.035879  0.003405  0.712783\n",
       "3     0.039071  0.003283  0.707581\n",
       "4     0.036897  0.002587  0.710361\n",
       "...        ...       ...       ...\n",
       "1436  0.036277  0.003478  0.749078\n",
       "1437  0.039270  0.004797  0.743222\n",
       "1438  0.038172  0.003343  0.748008\n",
       "1439  0.035976  0.002418  0.753554\n",
       "1440  0.037626  0.002932  0.748231\n",
       "\n",
       "[1441 rows x 3 columns]"
      ]
     },
     "execution_count": 305,
     "metadata": {},
     "output_type": "execute_result"
    }
   ],
   "source": [
    "dfReal.iloc[:, 3:6]"
   ]
  },
  {
   "cell_type": "markdown",
   "metadata": {},
   "source": [
    "#### Training of our proposed model:"
   ]
  },
  {
   "cell_type": "code",
   "execution_count": null,
   "metadata": {},
   "outputs": [],
   "source": [
    "mse_list = []\n",
    "for x in range(1):\n",
    "    model = Sequential(\n",
    "        layers=[\n",
    "            compiled_tcn(return_sequences=False,\n",
    "                         num_feat=10,\n",
    "                         nb_filters=24,\n",
    "                         num_classes=0,\n",
    "                         kernel_size=8,\n",
    "                         dilations=[2 ** i for i in range(9)],\n",
    "                         nb_stacks=2,\n",
    "                         max_len=30,\n",
    "                         lr=0.001,\n",
    "                         use_skip_connections=False,\n",
    "                         regression=False,\n",
    "                         dropout_rate=0,\n",
    "                         output_len= 30),\n",
    "            RepeatVector(1),  # output.shape = (batch, output_timesteps, 64)\n",
    "            Dense(2)  # output.shape = (batch, output_timesteps, output_dim)\n",
    "        ]\n",
    "        )\n",
    "    model.compile('adam', 'mse')\n",
    "    model.fit(train_x,train_y,batch_size=64,epochs=1)\n",
    "    y_pred = model.predict(np.array([test_x]))\n",
    "    print(y_pred)\n",
    "    print(test_y)\n",
    "#     mse_cur = mean_squared_error(y_pred,test_y)\n",
    "#     mse_list.append(mse_cur)\n",
    "#     print(f\"train_set_size:{train_x.shape[0]}\")\n",
    "#     print(f\"y_true:{test_y}\")\n",
    "#     print(f\"y_pred:{y_pred}\")\n",
    "#     print(f\"mse:{mse_cur}\")\n",
    "# print(np.mean(mse_list))"
   ]
  },
  {
   "cell_type": "code",
   "execution_count": null,
   "metadata": {},
   "outputs": [],
   "source": [
    "#### extra \n",
    "# only flow rates - seperate models - conov kerneal among other hyperparameters \n",
    "\n",
    "model = tcn(x.shape, 9, 'adam', 'mse', \n",
    "            nb_filters=TCN_PARAMS['nb_filters'],\n",
    "            kernel_size=TCN_PARAMS['kernel_size'],\n",
    "            nb_stacks= TCN_PARAMS['nb_stacks'],\n",
    "            dilations=TCN_PARAMS['dilations'],\n",
    "            dropout_rate=TCN_PARAMS['dropout_rate'])\n",
    "model.summary()"
   ]
  },
  {
   "cell_type": "code",
   "execution_count": null,
   "metadata": {},
   "outputs": [],
   "source": []
  }
 ],
 "metadata": {
  "kernelspec": {
   "display_name": "Python 3",
   "language": "python",
   "name": "python3"
  },
  "language_info": {
   "codemirror_mode": {
    "name": "ipython",
    "version": 3
   },
   "file_extension": ".py",
   "mimetype": "text/x-python",
   "name": "python",
   "nbconvert_exporter": "python",
   "pygments_lexer": "ipython3",
   "version": "3.7.4"
  }
 },
 "nbformat": 4,
 "nbformat_minor": 2
}
